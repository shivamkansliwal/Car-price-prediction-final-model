{
 "cells": [
  {
   "cell_type": "code",
   "execution_count": 3,
   "id": "8b679b4f",
   "metadata": {},
   "outputs": [],
   "source": [
    "#import the library\n",
    "import pandas as pd\n",
    "import numpy as np\n",
    "import matplotlib.pyplot as plt\n",
    "%matplotlib inline\n",
    "import seaborn as sns\n",
    "\n",
    "import warnings\n",
    "warnings.filterwarnings('ignore')\n",
    "\n",
    "# set options\n",
    "pd.set_option('display.max_columns', None)\n",
    "pd.set_option('display.max_rows', None)"
   ]
  },
  {
   "cell_type": "code",
   "execution_count": 4,
   "id": "ab5175a3",
   "metadata": {},
   "outputs": [
    {
     "name": "stdout",
     "output_type": "stream",
     "text": [
      "C:\\Users\\shivam_kansliwal\\Documents\\Car_Price_Prediction\n"
     ]
    }
   ],
   "source": [
    "import os\n",
    "# Verify the current working directory\n",
    "print(os.getcwd())\n",
    "\n",
    "# Change to a specific directory\n",
    "os.chdir(\"/Users/shivam_kansliwal/Documents/Car_Price_Prediction\")"
   ]
  },
  {
   "cell_type": "code",
   "execution_count": 5,
   "id": "e1582e11",
   "metadata": {},
   "outputs": [],
   "source": [
    "#import the dataset\n",
    "df=pd.read_csv('Car details.csv')\n"
   ]
  },
  {
   "cell_type": "code",
   "execution_count": 6,
   "id": "d2e0c6dc",
   "metadata": {
    "scrolled": true
   },
   "outputs": [
    {
     "data": {
      "text/html": [
       "<div>\n",
       "<style scoped>\n",
       "    .dataframe tbody tr th:only-of-type {\n",
       "        vertical-align: middle;\n",
       "    }\n",
       "\n",
       "    .dataframe tbody tr th {\n",
       "        vertical-align: top;\n",
       "    }\n",
       "\n",
       "    .dataframe thead th {\n",
       "        text-align: right;\n",
       "    }\n",
       "</style>\n",
       "<table border=\"1\" class=\"dataframe\">\n",
       "  <thead>\n",
       "    <tr style=\"text-align: right;\">\n",
       "      <th></th>\n",
       "      <th>name</th>\n",
       "      <th>year</th>\n",
       "      <th>selling_price</th>\n",
       "      <th>km_driven</th>\n",
       "      <th>fuel</th>\n",
       "      <th>seller_type</th>\n",
       "      <th>transmission</th>\n",
       "      <th>owner</th>\n",
       "      <th>mileage</th>\n",
       "      <th>engine</th>\n",
       "      <th>max_power</th>\n",
       "      <th>torque</th>\n",
       "      <th>seats</th>\n",
       "    </tr>\n",
       "  </thead>\n",
       "  <tbody>\n",
       "    <tr>\n",
       "      <th>0</th>\n",
       "      <td>Maruti Swift Dzire VDI</td>\n",
       "      <td>2014</td>\n",
       "      <td>450000</td>\n",
       "      <td>145500</td>\n",
       "      <td>Diesel</td>\n",
       "      <td>Individual</td>\n",
       "      <td>Manual</td>\n",
       "      <td>First Owner</td>\n",
       "      <td>23.4 kmpl</td>\n",
       "      <td>1248 CC</td>\n",
       "      <td>74 bhp</td>\n",
       "      <td>190Nm@ 2000rpm</td>\n",
       "      <td>5.0</td>\n",
       "    </tr>\n",
       "    <tr>\n",
       "      <th>1</th>\n",
       "      <td>Skoda Rapid 1.5 TDI Ambition</td>\n",
       "      <td>2014</td>\n",
       "      <td>370000</td>\n",
       "      <td>120000</td>\n",
       "      <td>Diesel</td>\n",
       "      <td>Individual</td>\n",
       "      <td>Manual</td>\n",
       "      <td>Second Owner</td>\n",
       "      <td>21.14 kmpl</td>\n",
       "      <td>1498 CC</td>\n",
       "      <td>103.52 bhp</td>\n",
       "      <td>250Nm@ 1500-2500rpm</td>\n",
       "      <td>5.0</td>\n",
       "    </tr>\n",
       "    <tr>\n",
       "      <th>2</th>\n",
       "      <td>Honda City 2017-2020 EXi</td>\n",
       "      <td>2006</td>\n",
       "      <td>158000</td>\n",
       "      <td>140000</td>\n",
       "      <td>Petrol</td>\n",
       "      <td>Individual</td>\n",
       "      <td>Manual</td>\n",
       "      <td>Third Owner</td>\n",
       "      <td>17.7 kmpl</td>\n",
       "      <td>1497 CC</td>\n",
       "      <td>78 bhp</td>\n",
       "      <td>12.7@ 2,700(kgm@ rpm)</td>\n",
       "      <td>5.0</td>\n",
       "    </tr>\n",
       "    <tr>\n",
       "      <th>3</th>\n",
       "      <td>Hyundai i20 Sportz Diesel</td>\n",
       "      <td>2010</td>\n",
       "      <td>225000</td>\n",
       "      <td>127000</td>\n",
       "      <td>Diesel</td>\n",
       "      <td>Individual</td>\n",
       "      <td>Manual</td>\n",
       "      <td>First Owner</td>\n",
       "      <td>23.0 kmpl</td>\n",
       "      <td>1396 CC</td>\n",
       "      <td>90 bhp</td>\n",
       "      <td>22.4 kgm at 1750-2750rpm</td>\n",
       "      <td>5.0</td>\n",
       "    </tr>\n",
       "    <tr>\n",
       "      <th>4</th>\n",
       "      <td>Maruti Swift VXI BSIII</td>\n",
       "      <td>2007</td>\n",
       "      <td>130000</td>\n",
       "      <td>120000</td>\n",
       "      <td>Petrol</td>\n",
       "      <td>Individual</td>\n",
       "      <td>Manual</td>\n",
       "      <td>First Owner</td>\n",
       "      <td>16.1 kmpl</td>\n",
       "      <td>1298 CC</td>\n",
       "      <td>88.2 bhp</td>\n",
       "      <td>11.5@ 4,500(kgm@ rpm)</td>\n",
       "      <td>5.0</td>\n",
       "    </tr>\n",
       "  </tbody>\n",
       "</table>\n",
       "</div>"
      ],
      "text/plain": [
       "                           name  year  selling_price  km_driven    fuel  \\\n",
       "0        Maruti Swift Dzire VDI  2014         450000     145500  Diesel   \n",
       "1  Skoda Rapid 1.5 TDI Ambition  2014         370000     120000  Diesel   \n",
       "2      Honda City 2017-2020 EXi  2006         158000     140000  Petrol   \n",
       "3     Hyundai i20 Sportz Diesel  2010         225000     127000  Diesel   \n",
       "4        Maruti Swift VXI BSIII  2007         130000     120000  Petrol   \n",
       "\n",
       "  seller_type transmission         owner     mileage   engine   max_power  \\\n",
       "0  Individual       Manual   First Owner   23.4 kmpl  1248 CC      74 bhp   \n",
       "1  Individual       Manual  Second Owner  21.14 kmpl  1498 CC  103.52 bhp   \n",
       "2  Individual       Manual   Third Owner   17.7 kmpl  1497 CC      78 bhp   \n",
       "3  Individual       Manual   First Owner   23.0 kmpl  1396 CC      90 bhp   \n",
       "4  Individual       Manual   First Owner   16.1 kmpl  1298 CC    88.2 bhp   \n",
       "\n",
       "                     torque  seats  \n",
       "0            190Nm@ 2000rpm    5.0  \n",
       "1       250Nm@ 1500-2500rpm    5.0  \n",
       "2     12.7@ 2,700(kgm@ rpm)    5.0  \n",
       "3  22.4 kgm at 1750-2750rpm    5.0  \n",
       "4     11.5@ 4,500(kgm@ rpm)    5.0  "
      ]
     },
     "execution_count": 6,
     "metadata": {},
     "output_type": "execute_result"
    }
   ],
   "source": [
    "df.head()"
   ]
  },
  {
   "cell_type": "code",
   "execution_count": 7,
   "id": "258be138",
   "metadata": {},
   "outputs": [
    {
     "name": "stdout",
     "output_type": "stream",
     "text": [
      "<class 'pandas.core.frame.DataFrame'>\n",
      "RangeIndex: 8128 entries, 0 to 8127\n",
      "Data columns (total 13 columns):\n",
      " #   Column         Non-Null Count  Dtype  \n",
      "---  ------         --------------  -----  \n",
      " 0   name           8128 non-null   object \n",
      " 1   year           8128 non-null   int64  \n",
      " 2   selling_price  8128 non-null   int64  \n",
      " 3   km_driven      8128 non-null   int64  \n",
      " 4   fuel           8128 non-null   object \n",
      " 5   seller_type    8128 non-null   object \n",
      " 6   transmission   8128 non-null   object \n",
      " 7   owner          8128 non-null   object \n",
      " 8   mileage        7907 non-null   object \n",
      " 9   engine         7907 non-null   object \n",
      " 10  max_power      7913 non-null   object \n",
      " 11  torque         7906 non-null   object \n",
      " 12  seats          7907 non-null   float64\n",
      "dtypes: float64(1), int64(3), object(9)\n",
      "memory usage: 825.6+ KB\n"
     ]
    }
   ],
   "source": [
    "df.info()"
   ]
  },
  {
   "cell_type": "code",
   "execution_count": 8,
   "id": "c7750e15",
   "metadata": {},
   "outputs": [
    {
     "data": {
      "text/html": [
       "<div>\n",
       "<style scoped>\n",
       "    .dataframe tbody tr th:only-of-type {\n",
       "        vertical-align: middle;\n",
       "    }\n",
       "\n",
       "    .dataframe tbody tr th {\n",
       "        vertical-align: top;\n",
       "    }\n",
       "\n",
       "    .dataframe thead th {\n",
       "        text-align: right;\n",
       "    }\n",
       "</style>\n",
       "<table border=\"1\" class=\"dataframe\">\n",
       "  <thead>\n",
       "    <tr style=\"text-align: right;\">\n",
       "      <th></th>\n",
       "      <th>year</th>\n",
       "      <th>selling_price</th>\n",
       "      <th>km_driven</th>\n",
       "      <th>seats</th>\n",
       "    </tr>\n",
       "  </thead>\n",
       "  <tbody>\n",
       "    <tr>\n",
       "      <th>count</th>\n",
       "      <td>8128.000000</td>\n",
       "      <td>8.128000e+03</td>\n",
       "      <td>8.128000e+03</td>\n",
       "      <td>7907.000000</td>\n",
       "    </tr>\n",
       "    <tr>\n",
       "      <th>mean</th>\n",
       "      <td>2013.804011</td>\n",
       "      <td>6.382718e+05</td>\n",
       "      <td>6.981951e+04</td>\n",
       "      <td>5.416719</td>\n",
       "    </tr>\n",
       "    <tr>\n",
       "      <th>std</th>\n",
       "      <td>4.044249</td>\n",
       "      <td>8.062534e+05</td>\n",
       "      <td>5.655055e+04</td>\n",
       "      <td>0.959588</td>\n",
       "    </tr>\n",
       "    <tr>\n",
       "      <th>min</th>\n",
       "      <td>1983.000000</td>\n",
       "      <td>2.999900e+04</td>\n",
       "      <td>1.000000e+00</td>\n",
       "      <td>2.000000</td>\n",
       "    </tr>\n",
       "    <tr>\n",
       "      <th>25%</th>\n",
       "      <td>2011.000000</td>\n",
       "      <td>2.549990e+05</td>\n",
       "      <td>3.500000e+04</td>\n",
       "      <td>5.000000</td>\n",
       "    </tr>\n",
       "    <tr>\n",
       "      <th>50%</th>\n",
       "      <td>2015.000000</td>\n",
       "      <td>4.500000e+05</td>\n",
       "      <td>6.000000e+04</td>\n",
       "      <td>5.000000</td>\n",
       "    </tr>\n",
       "    <tr>\n",
       "      <th>75%</th>\n",
       "      <td>2017.000000</td>\n",
       "      <td>6.750000e+05</td>\n",
       "      <td>9.800000e+04</td>\n",
       "      <td>5.000000</td>\n",
       "    </tr>\n",
       "    <tr>\n",
       "      <th>max</th>\n",
       "      <td>2020.000000</td>\n",
       "      <td>1.000000e+07</td>\n",
       "      <td>2.360457e+06</td>\n",
       "      <td>14.000000</td>\n",
       "    </tr>\n",
       "  </tbody>\n",
       "</table>\n",
       "</div>"
      ],
      "text/plain": [
       "              year  selling_price     km_driven        seats\n",
       "count  8128.000000   8.128000e+03  8.128000e+03  7907.000000\n",
       "mean   2013.804011   6.382718e+05  6.981951e+04     5.416719\n",
       "std       4.044249   8.062534e+05  5.655055e+04     0.959588\n",
       "min    1983.000000   2.999900e+04  1.000000e+00     2.000000\n",
       "25%    2011.000000   2.549990e+05  3.500000e+04     5.000000\n",
       "50%    2015.000000   4.500000e+05  6.000000e+04     5.000000\n",
       "75%    2017.000000   6.750000e+05  9.800000e+04     5.000000\n",
       "max    2020.000000   1.000000e+07  2.360457e+06    14.000000"
      ]
     },
     "execution_count": 8,
     "metadata": {},
     "output_type": "execute_result"
    }
   ],
   "source": [
    "#looking describe dataset\n",
    "df.describe()"
   ]
  },
  {
   "cell_type": "code",
   "execution_count": 9,
   "id": "638efb23",
   "metadata": {},
   "outputs": [],
   "source": [
    "#make dtypes of some variable 'category'\n",
    "categoric_columns= ['fuel','transmission','owner','seller_type']\n",
    "for column in categoric_columns:\n",
    "    df[column]=df[column].astype('category')"
   ]
  },
  {
   "cell_type": "code",
   "execution_count": 10,
   "id": "54103d2e",
   "metadata": {},
   "outputs": [],
   "source": [
    "#create 'car_brand_name' feature from 'name' feature\n",
    "\n",
    "df['car_brand_name']=df['name'].str.extract('([^\\s]+)')\n",
    "df['car_brand_name']=df['car_brand_name'].astype('category')"
   ]
  },
  {
   "cell_type": "code",
   "execution_count": 11,
   "id": "aeea624e",
   "metadata": {},
   "outputs": [],
   "source": [
    "#extract value of engine and mileage variable\n",
    "df['engine']=df['engine'].str.extract('([^\\s]+)').astype(float)\n",
    "df['mileage']=df['mileage'].str.extract('([^\\s]+)').astype(float)"
   ]
  },
  {
   "cell_type": "code",
   "execution_count": 12,
   "id": "01925c9a",
   "metadata": {},
   "outputs": [],
   "source": [
    "#extract value of 'max_power' variable\n",
    "df['max_power']=df['max_power'].str.extract('([^\\s]+)')\n",
    "df['max_power']=df['max_power'][~(df['max_power'] == 'bhp')]\n",
    "df['max_power']=df['max_power'].astype(float)"
   ]
  },
  {
   "cell_type": "code",
   "execution_count": 13,
   "id": "75396404",
   "metadata": {},
   "outputs": [],
   "source": [
    "#create 'car_age' feature from 'year' column\n",
    "import datetime\n",
    "df['car_age']=(datetime.datetime.now().year)-(df['year'])"
   ]
  },
  {
   "cell_type": "code",
   "execution_count": 14,
   "id": "2d7c84dd",
   "metadata": {},
   "outputs": [],
   "source": [
    "#drop the features of 'name','year' and 'torque'\n",
    "df.drop(columns=['name','year','torque'],axis=1,inplace=True)"
   ]
  },
  {
   "cell_type": "code",
   "execution_count": 114,
   "id": "ef0ccda4",
   "metadata": {},
   "outputs": [
    {
     "data": {
      "text/html": [
       "<div>\n",
       "<style scoped>\n",
       "    .dataframe tbody tr th:only-of-type {\n",
       "        vertical-align: middle;\n",
       "    }\n",
       "\n",
       "    .dataframe tbody tr th {\n",
       "        vertical-align: top;\n",
       "    }\n",
       "\n",
       "    .dataframe thead th {\n",
       "        text-align: right;\n",
       "    }\n",
       "</style>\n",
       "<table border=\"1\" class=\"dataframe\">\n",
       "  <thead>\n",
       "    <tr style=\"text-align: right;\">\n",
       "      <th></th>\n",
       "      <th>selling_price</th>\n",
       "      <th>km_driven</th>\n",
       "      <th>fuel</th>\n",
       "      <th>seller_type</th>\n",
       "      <th>transmission</th>\n",
       "      <th>owner</th>\n",
       "      <th>mileage</th>\n",
       "      <th>engine</th>\n",
       "      <th>max_power</th>\n",
       "      <th>seats</th>\n",
       "      <th>car_brand_name</th>\n",
       "      <th>car_age</th>\n",
       "    </tr>\n",
       "  </thead>\n",
       "  <tbody>\n",
       "    <tr>\n",
       "      <th>0</th>\n",
       "      <td>450000</td>\n",
       "      <td>145500</td>\n",
       "      <td>1</td>\n",
       "      <td>1</td>\n",
       "      <td>1</td>\n",
       "      <td>0</td>\n",
       "      <td>23.40</td>\n",
       "      <td>1248.0</td>\n",
       "      <td>74.00</td>\n",
       "      <td>5.0</td>\n",
       "      <td>Maruti</td>\n",
       "      <td>9</td>\n",
       "    </tr>\n",
       "    <tr>\n",
       "      <th>1</th>\n",
       "      <td>370000</td>\n",
       "      <td>120000</td>\n",
       "      <td>1</td>\n",
       "      <td>1</td>\n",
       "      <td>1</td>\n",
       "      <td>2</td>\n",
       "      <td>21.14</td>\n",
       "      <td>1498.0</td>\n",
       "      <td>103.52</td>\n",
       "      <td>5.0</td>\n",
       "      <td>Skoda</td>\n",
       "      <td>9</td>\n",
       "    </tr>\n",
       "    <tr>\n",
       "      <th>2</th>\n",
       "      <td>158000</td>\n",
       "      <td>140000</td>\n",
       "      <td>3</td>\n",
       "      <td>1</td>\n",
       "      <td>1</td>\n",
       "      <td>3</td>\n",
       "      <td>17.70</td>\n",
       "      <td>1497.0</td>\n",
       "      <td>78.00</td>\n",
       "      <td>5.0</td>\n",
       "      <td>Honda</td>\n",
       "      <td>17</td>\n",
       "    </tr>\n",
       "    <tr>\n",
       "      <th>3</th>\n",
       "      <td>225000</td>\n",
       "      <td>127000</td>\n",
       "      <td>1</td>\n",
       "      <td>1</td>\n",
       "      <td>1</td>\n",
       "      <td>0</td>\n",
       "      <td>23.00</td>\n",
       "      <td>1396.0</td>\n",
       "      <td>90.00</td>\n",
       "      <td>5.0</td>\n",
       "      <td>Hyundai</td>\n",
       "      <td>13</td>\n",
       "    </tr>\n",
       "    <tr>\n",
       "      <th>4</th>\n",
       "      <td>130000</td>\n",
       "      <td>120000</td>\n",
       "      <td>3</td>\n",
       "      <td>1</td>\n",
       "      <td>1</td>\n",
       "      <td>0</td>\n",
       "      <td>16.10</td>\n",
       "      <td>1298.0</td>\n",
       "      <td>88.20</td>\n",
       "      <td>5.0</td>\n",
       "      <td>Maruti</td>\n",
       "      <td>16</td>\n",
       "    </tr>\n",
       "  </tbody>\n",
       "</table>\n",
       "</div>"
      ],
      "text/plain": [
       "   selling_price  km_driven  fuel  seller_type  transmission  owner  mileage  \\\n",
       "0         450000     145500     1            1             1      0    23.40   \n",
       "1         370000     120000     1            1             1      2    21.14   \n",
       "2         158000     140000     3            1             1      3    17.70   \n",
       "3         225000     127000     1            1             1      0    23.00   \n",
       "4         130000     120000     3            1             1      0    16.10   \n",
       "\n",
       "   engine  max_power  seats car_brand_name  car_age  \n",
       "0  1248.0      74.00    5.0         Maruti        9  \n",
       "1  1498.0     103.52    5.0          Skoda        9  \n",
       "2  1497.0      78.00    5.0          Honda       17  \n",
       "3  1396.0      90.00    5.0        Hyundai       13  \n",
       "4  1298.0      88.20    5.0         Maruti       16  "
      ]
     },
     "execution_count": 114,
     "metadata": {},
     "output_type": "execute_result"
    }
   ],
   "source": [
    "df.head()"
   ]
  },
  {
   "cell_type": "code",
   "execution_count": 16,
   "id": "7175db55",
   "metadata": {},
   "outputs": [
    {
     "data": {
      "text/plain": [
       "count        8128.00\n",
       "mean       638271.81\n",
       "std        806253.40\n",
       "min         29999.00\n",
       "25%        254999.00\n",
       "50%        450000.00\n",
       "75%        675000.00\n",
       "max      10000000.00\n",
       "Name: selling_price, dtype: float64"
      ]
     },
     "execution_count": 16,
     "metadata": {},
     "output_type": "execute_result"
    }
   ],
   "source": [
    "#describe price value\n",
    "df['selling_price'].describe().round(2)"
   ]
  },
  {
   "cell_type": "raw",
   "id": "97412126",
   "metadata": {},
   "source": [
    "# Avg price= 638271\n",
    "# Min price= 29999\n",
    "# Max price= 10000000"
   ]
  },
  {
   "cell_type": "code",
   "execution_count": 17,
   "id": "29652048",
   "metadata": {},
   "outputs": [
    {
     "data": {
      "text/plain": [
       "120000    536\n",
       "70000     456\n",
       "80000     448\n",
       "60000     425\n",
       "50000     391\n",
       "Name: km_driven, dtype: int64"
      ]
     },
     "execution_count": 17,
     "metadata": {},
     "output_type": "execute_result"
    }
   ],
   "source": [
    "df['km_driven'].value_counts().nlargest()"
   ]
  },
  {
   "cell_type": "code",
   "execution_count": 18,
   "id": "5f35f209",
   "metadata": {},
   "outputs": [
    {
     "data": {
      "text/html": [
       "<style type=\"text/css\">\n",
       "</style>\n",
       "<table id=\"T_b6852\">\n",
       "  <thead>\n",
       "    <tr>\n",
       "      <th class=\"blank level0\" >&nbsp;</th>\n",
       "      <th id=\"T_b6852_level0_col0\" class=\"col_heading level0 col0\" >count</th>\n",
       "      <th id=\"T_b6852_level0_col1\" class=\"col_heading level0 col1\" >mean</th>\n",
       "      <th id=\"T_b6852_level0_col2\" class=\"col_heading level0 col2\" >std</th>\n",
       "      <th id=\"T_b6852_level0_col3\" class=\"col_heading level0 col3\" >min</th>\n",
       "      <th id=\"T_b6852_level0_col4\" class=\"col_heading level0 col4\" >25%</th>\n",
       "      <th id=\"T_b6852_level0_col5\" class=\"col_heading level0 col5\" >50%</th>\n",
       "      <th id=\"T_b6852_level0_col6\" class=\"col_heading level0 col6\" >75%</th>\n",
       "      <th id=\"T_b6852_level0_col7\" class=\"col_heading level0 col7\" >max</th>\n",
       "    </tr>\n",
       "  </thead>\n",
       "  <tbody>\n",
       "    <tr>\n",
       "      <th id=\"T_b6852_level0_row0\" class=\"row_heading level0 row0\" >selling_price</th>\n",
       "      <td id=\"T_b6852_row0_col0\" class=\"data row0 col0\" >8128.000000</td>\n",
       "      <td id=\"T_b6852_row0_col1\" class=\"data row0 col1\" >638271.807702</td>\n",
       "      <td id=\"T_b6852_row0_col2\" class=\"data row0 col2\" >806253.403508</td>\n",
       "      <td id=\"T_b6852_row0_col3\" class=\"data row0 col3\" >29999.000000</td>\n",
       "      <td id=\"T_b6852_row0_col4\" class=\"data row0 col4\" >254999.000000</td>\n",
       "      <td id=\"T_b6852_row0_col5\" class=\"data row0 col5\" >450000.000000</td>\n",
       "      <td id=\"T_b6852_row0_col6\" class=\"data row0 col6\" >675000.000000</td>\n",
       "      <td id=\"T_b6852_row0_col7\" class=\"data row0 col7\" >10000000.000000</td>\n",
       "    </tr>\n",
       "    <tr>\n",
       "      <th id=\"T_b6852_level0_row1\" class=\"row_heading level0 row1\" >km_driven</th>\n",
       "      <td id=\"T_b6852_row1_col0\" class=\"data row1 col0\" >8128.000000</td>\n",
       "      <td id=\"T_b6852_row1_col1\" class=\"data row1 col1\" >69819.510827</td>\n",
       "      <td id=\"T_b6852_row1_col2\" class=\"data row1 col2\" >56550.554958</td>\n",
       "      <td id=\"T_b6852_row1_col3\" class=\"data row1 col3\" >1.000000</td>\n",
       "      <td id=\"T_b6852_row1_col4\" class=\"data row1 col4\" >35000.000000</td>\n",
       "      <td id=\"T_b6852_row1_col5\" class=\"data row1 col5\" >60000.000000</td>\n",
       "      <td id=\"T_b6852_row1_col6\" class=\"data row1 col6\" >98000.000000</td>\n",
       "      <td id=\"T_b6852_row1_col7\" class=\"data row1 col7\" >2360457.000000</td>\n",
       "    </tr>\n",
       "    <tr>\n",
       "      <th id=\"T_b6852_level0_row2\" class=\"row_heading level0 row2\" >mileage</th>\n",
       "      <td id=\"T_b6852_row2_col0\" class=\"data row2 col0\" >7907.000000</td>\n",
       "      <td id=\"T_b6852_row2_col1\" class=\"data row2 col1\" >19.418783</td>\n",
       "      <td id=\"T_b6852_row2_col2\" class=\"data row2 col2\" >4.037145</td>\n",
       "      <td id=\"T_b6852_row2_col3\" class=\"data row2 col3\" >0.000000</td>\n",
       "      <td id=\"T_b6852_row2_col4\" class=\"data row2 col4\" >16.780000</td>\n",
       "      <td id=\"T_b6852_row2_col5\" class=\"data row2 col5\" >19.300000</td>\n",
       "      <td id=\"T_b6852_row2_col6\" class=\"data row2 col6\" >22.320000</td>\n",
       "      <td id=\"T_b6852_row2_col7\" class=\"data row2 col7\" >42.000000</td>\n",
       "    </tr>\n",
       "    <tr>\n",
       "      <th id=\"T_b6852_level0_row3\" class=\"row_heading level0 row3\" >engine</th>\n",
       "      <td id=\"T_b6852_row3_col0\" class=\"data row3 col0\" >7907.000000</td>\n",
       "      <td id=\"T_b6852_row3_col1\" class=\"data row3 col1\" >1458.625016</td>\n",
       "      <td id=\"T_b6852_row3_col2\" class=\"data row3 col2\" >503.916303</td>\n",
       "      <td id=\"T_b6852_row3_col3\" class=\"data row3 col3\" >624.000000</td>\n",
       "      <td id=\"T_b6852_row3_col4\" class=\"data row3 col4\" >1197.000000</td>\n",
       "      <td id=\"T_b6852_row3_col5\" class=\"data row3 col5\" >1248.000000</td>\n",
       "      <td id=\"T_b6852_row3_col6\" class=\"data row3 col6\" >1582.000000</td>\n",
       "      <td id=\"T_b6852_row3_col7\" class=\"data row3 col7\" >3604.000000</td>\n",
       "    </tr>\n",
       "    <tr>\n",
       "      <th id=\"T_b6852_level0_row4\" class=\"row_heading level0 row4\" >max_power</th>\n",
       "      <td id=\"T_b6852_row4_col0\" class=\"data row4 col0\" >7912.000000</td>\n",
       "      <td id=\"T_b6852_row4_col1\" class=\"data row4 col1\" >91.517919</td>\n",
       "      <td id=\"T_b6852_row4_col2\" class=\"data row4 col2\" >35.822499</td>\n",
       "      <td id=\"T_b6852_row4_col3\" class=\"data row4 col3\" >0.000000</td>\n",
       "      <td id=\"T_b6852_row4_col4\" class=\"data row4 col4\" >68.050000</td>\n",
       "      <td id=\"T_b6852_row4_col5\" class=\"data row4 col5\" >82.000000</td>\n",
       "      <td id=\"T_b6852_row4_col6\" class=\"data row4 col6\" >102.000000</td>\n",
       "      <td id=\"T_b6852_row4_col7\" class=\"data row4 col7\" >400.000000</td>\n",
       "    </tr>\n",
       "    <tr>\n",
       "      <th id=\"T_b6852_level0_row5\" class=\"row_heading level0 row5\" >seats</th>\n",
       "      <td id=\"T_b6852_row5_col0\" class=\"data row5 col0\" >7907.000000</td>\n",
       "      <td id=\"T_b6852_row5_col1\" class=\"data row5 col1\" >5.416719</td>\n",
       "      <td id=\"T_b6852_row5_col2\" class=\"data row5 col2\" >0.959588</td>\n",
       "      <td id=\"T_b6852_row5_col3\" class=\"data row5 col3\" >2.000000</td>\n",
       "      <td id=\"T_b6852_row5_col4\" class=\"data row5 col4\" >5.000000</td>\n",
       "      <td id=\"T_b6852_row5_col5\" class=\"data row5 col5\" >5.000000</td>\n",
       "      <td id=\"T_b6852_row5_col6\" class=\"data row5 col6\" >5.000000</td>\n",
       "      <td id=\"T_b6852_row5_col7\" class=\"data row5 col7\" >14.000000</td>\n",
       "    </tr>\n",
       "    <tr>\n",
       "      <th id=\"T_b6852_level0_row6\" class=\"row_heading level0 row6\" >car_age</th>\n",
       "      <td id=\"T_b6852_row6_col0\" class=\"data row6 col0\" >8128.000000</td>\n",
       "      <td id=\"T_b6852_row6_col1\" class=\"data row6 col1\" >9.195989</td>\n",
       "      <td id=\"T_b6852_row6_col2\" class=\"data row6 col2\" >4.044249</td>\n",
       "      <td id=\"T_b6852_row6_col3\" class=\"data row6 col3\" >3.000000</td>\n",
       "      <td id=\"T_b6852_row6_col4\" class=\"data row6 col4\" >6.000000</td>\n",
       "      <td id=\"T_b6852_row6_col5\" class=\"data row6 col5\" >8.000000</td>\n",
       "      <td id=\"T_b6852_row6_col6\" class=\"data row6 col6\" >12.000000</td>\n",
       "      <td id=\"T_b6852_row6_col7\" class=\"data row6 col7\" >40.000000</td>\n",
       "    </tr>\n",
       "  </tbody>\n",
       "</table>\n"
      ],
      "text/plain": [
       "<pandas.io.formats.style.Styler at 0x24ad85aa7c0>"
      ]
     },
     "execution_count": 18,
     "metadata": {},
     "output_type": "execute_result"
    }
   ],
   "source": [
    "df.describe().T.style"
   ]
  },
  {
   "cell_type": "markdown",
   "id": "681ef210",
   "metadata": {},
   "source": [
    "#description of numeric variable\n",
    "1. minimum selling price is 29999 USD and maximum price is 10000000 USD and average selling price is 638271 USD.\n",
    "2. The driving distance of the least driven car is 1 km, the most driven car's driving distance is 2360457 km, and average\n",
    "    driving distance is 69819.\n",
    "3. The no. of seats of cars change from 2 seats to 14 seats\n",
    "4. Minimum mileage is 0, maximum mileage is 42, average mileage is 19.4\n",
    "5. Engine volume changes from 624 to 3604, average is 1458."
   ]
  },
  {
   "cell_type": "code",
   "execution_count": 19,
   "id": "74c24fef",
   "metadata": {},
   "outputs": [
    {
     "data": {
      "text/html": [
       "<div>\n",
       "<style scoped>\n",
       "    .dataframe tbody tr th:only-of-type {\n",
       "        vertical-align: middle;\n",
       "    }\n",
       "\n",
       "    .dataframe tbody tr th {\n",
       "        vertical-align: top;\n",
       "    }\n",
       "\n",
       "    .dataframe thead th {\n",
       "        text-align: right;\n",
       "    }\n",
       "</style>\n",
       "<table border=\"1\" class=\"dataframe\">\n",
       "  <thead>\n",
       "    <tr style=\"text-align: right;\">\n",
       "      <th></th>\n",
       "      <th>count</th>\n",
       "      <th>unique</th>\n",
       "      <th>top</th>\n",
       "      <th>freq</th>\n",
       "    </tr>\n",
       "  </thead>\n",
       "  <tbody>\n",
       "    <tr>\n",
       "      <th>fuel</th>\n",
       "      <td>8128</td>\n",
       "      <td>4</td>\n",
       "      <td>Diesel</td>\n",
       "      <td>4402</td>\n",
       "    </tr>\n",
       "    <tr>\n",
       "      <th>seller_type</th>\n",
       "      <td>8128</td>\n",
       "      <td>3</td>\n",
       "      <td>Individual</td>\n",
       "      <td>6766</td>\n",
       "    </tr>\n",
       "    <tr>\n",
       "      <th>transmission</th>\n",
       "      <td>8128</td>\n",
       "      <td>2</td>\n",
       "      <td>Manual</td>\n",
       "      <td>7078</td>\n",
       "    </tr>\n",
       "    <tr>\n",
       "      <th>owner</th>\n",
       "      <td>8128</td>\n",
       "      <td>5</td>\n",
       "      <td>First Owner</td>\n",
       "      <td>5289</td>\n",
       "    </tr>\n",
       "    <tr>\n",
       "      <th>car_brand_name</th>\n",
       "      <td>8128</td>\n",
       "      <td>32</td>\n",
       "      <td>Maruti</td>\n",
       "      <td>2448</td>\n",
       "    </tr>\n",
       "  </tbody>\n",
       "</table>\n",
       "</div>"
      ],
      "text/plain": [
       "               count unique          top  freq\n",
       "fuel            8128      4       Diesel  4402\n",
       "seller_type     8128      3   Individual  6766\n",
       "transmission    8128      2       Manual  7078\n",
       "owner           8128      5  First Owner  5289\n",
       "car_brand_name  8128     32       Maruti  2448"
      ]
     },
     "execution_count": 19,
     "metadata": {},
     "output_type": "execute_result"
    }
   ],
   "source": [
    "df.describe(include='category').T"
   ]
  },
  {
   "cell_type": "markdown",
   "id": "4a5e49ba",
   "metadata": {},
   "source": [
    "# About categoric variable\n",
    "\n",
    "1. Fuel kind with highest frequency :- Diesel (frequency=4402)\n",
    "2. seller type with highest frequency:- Individual(frequency=6766)\n",
    "3. Transmission type with highest frequency:- Manual ( frequency= 7078)\n",
    "4. owner type with highest frequency :- First Owner (frequency= 5289)\n",
    "5. car brand name with highest frequency : Maruti (frequency= 2448) \n",
    "    "
   ]
  },
  {
   "cell_type": "code",
   "execution_count": 20,
   "id": "411561c6",
   "metadata": {},
   "outputs": [
    {
     "data": {
      "text/plain": [
       "selling_price       0\n",
       "km_driven           0\n",
       "fuel                0\n",
       "seller_type         0\n",
       "transmission        0\n",
       "owner               0\n",
       "mileage           221\n",
       "engine            221\n",
       "max_power         216\n",
       "seats             221\n",
       "car_brand_name      0\n",
       "car_age             0\n",
       "dtype: int64"
      ]
     },
     "execution_count": 20,
     "metadata": {},
     "output_type": "execute_result"
    }
   ],
   "source": [
    "# checking missing value and fill them\n",
    "df.isnull().sum()"
   ]
  },
  {
   "cell_type": "code",
   "execution_count": 21,
   "id": "700be3df",
   "metadata": {},
   "outputs": [
    {
     "data": {
      "text/plain": [
       "<Figure size 1000x500 with 0 Axes>"
      ]
     },
     "metadata": {},
     "output_type": "display_data"
    },
    {
     "data": {
      "image/png": "[encoded data removed]",
      "text/plain": [
       "<Figure size 2084.88x500 with 1 Axes>"
      ]
     },
     "metadata": {},
     "output_type": "display_data"
    }
   ],
   "source": [
    "#visualize missing values with seaborn (distplot)\n",
    "\n",
    "plt.figure(figsize= (10,5))\n",
    "sns.displot(\n",
    "    data= df.isna().melt(value_name='missing'),\n",
    "    y= 'variable',\n",
    "    hue='missing',\n",
    "    multiple='fill',\n",
    "    aspect=4\n",
    ");    "
   ]
  },
  {
   "cell_type": "code",
   "execution_count": 22,
   "id": "896e301c",
   "metadata": {},
   "outputs": [
    {
     "data": {
      "text/plain": [
       "['selling_price',\n",
       " 'km_driven',\n",
       " 'mileage',\n",
       " 'engine',\n",
       " 'max_power',\n",
       " 'seats',\n",
       " 'car_age']"
      ]
     },
     "execution_count": 22,
     "metadata": {},
     "output_type": "execute_result"
    }
   ],
   "source": [
    "# fill null values with median (numeric) and frequent values('categoric')\n",
    "\n",
    "\n",
    "numeric_data=[column for column in df.select_dtypes(['int','float'])]\n",
    "numeric_data"
   ]
  },
  {
   "cell_type": "code",
   "execution_count": 23,
   "id": "2d94fa43",
   "metadata": {},
   "outputs": [
    {
     "data": {
      "text/plain": [
       "['fuel', 'seller_type', 'transmission', 'owner', 'car_brand_name']"
      ]
     },
     "execution_count": 23,
     "metadata": {},
     "output_type": "execute_result"
    }
   ],
   "source": [
    "categorical_data=[column for column in df.select_dtypes(exclude=['int','float'])]\n",
    "categorical_data"
   ]
  },
  {
   "cell_type": "code",
   "execution_count": 24,
   "id": "7c0c532c",
   "metadata": {},
   "outputs": [],
   "source": [
    "# fill numeric data with median\n",
    "\n",
    "for col in numeric_data:\n",
    "    df[col].fillna(df[col].median(),inplace=True)"
   ]
  },
  {
   "cell_type": "code",
   "execution_count": 25,
   "id": "97389d82",
   "metadata": {},
   "outputs": [],
   "source": [
    "#Replace missing values in each categorical column with the most frequent value\n",
    "\n",
    "for col in categorical_data:\n",
    "    df[col].fillna(df[col].mode(),inplace=True)"
   ]
  },
  {
   "cell_type": "code",
   "execution_count": 26,
   "id": "e24f34c2",
   "metadata": {},
   "outputs": [
    {
     "data": {
      "text/plain": [
       "selling_price     0\n",
       "km_driven         0\n",
       "fuel              0\n",
       "seller_type       0\n",
       "transmission      0\n",
       "owner             0\n",
       "mileage           0\n",
       "engine            0\n",
       "max_power         0\n",
       "seats             0\n",
       "car_brand_name    0\n",
       "car_age           0\n",
       "dtype: int64"
      ]
     },
     "execution_count": 26,
     "metadata": {},
     "output_type": "execute_result"
    }
   ],
   "source": [
    "#check the null value again\n",
    "\n",
    "df.isnull().sum()"
   ]
  },
  {
   "cell_type": "raw",
   "id": "a546df81",
   "metadata": {},
   "source": [
    "# we filled null values with medians of numeric variable and the most frequent values of categorical variable with the codes\n",
    "above"
   ]
  },
  {
   "cell_type": "code",
   "execution_count": 27,
   "id": "f7f25406",
   "metadata": {},
   "outputs": [
    {
     "data": {
      "text/html": [
       "<div>\n",
       "<style scoped>\n",
       "    .dataframe tbody tr th:only-of-type {\n",
       "        vertical-align: middle;\n",
       "    }\n",
       "\n",
       "    .dataframe tbody tr th {\n",
       "        vertical-align: top;\n",
       "    }\n",
       "\n",
       "    .dataframe thead th {\n",
       "        text-align: right;\n",
       "    }\n",
       "</style>\n",
       "<table border=\"1\" class=\"dataframe\">\n",
       "  <thead>\n",
       "    <tr style=\"text-align: right;\">\n",
       "      <th></th>\n",
       "      <th>selling_price</th>\n",
       "      <th>km_driven</th>\n",
       "      <th>fuel</th>\n",
       "      <th>seller_type</th>\n",
       "      <th>transmission</th>\n",
       "      <th>owner</th>\n",
       "      <th>mileage</th>\n",
       "      <th>engine</th>\n",
       "      <th>max_power</th>\n",
       "      <th>seats</th>\n",
       "      <th>car_brand_name</th>\n",
       "      <th>car_age</th>\n",
       "    </tr>\n",
       "  </thead>\n",
       "  <tbody>\n",
       "    <tr>\n",
       "      <th>0</th>\n",
       "      <td>450000</td>\n",
       "      <td>145500</td>\n",
       "      <td>Diesel</td>\n",
       "      <td>Individual</td>\n",
       "      <td>Manual</td>\n",
       "      <td>First Owner</td>\n",
       "      <td>23.40</td>\n",
       "      <td>1248.0</td>\n",
       "      <td>74.00</td>\n",
       "      <td>5.0</td>\n",
       "      <td>Maruti</td>\n",
       "      <td>9</td>\n",
       "    </tr>\n",
       "    <tr>\n",
       "      <th>1</th>\n",
       "      <td>370000</td>\n",
       "      <td>120000</td>\n",
       "      <td>Diesel</td>\n",
       "      <td>Individual</td>\n",
       "      <td>Manual</td>\n",
       "      <td>Second Owner</td>\n",
       "      <td>21.14</td>\n",
       "      <td>1498.0</td>\n",
       "      <td>103.52</td>\n",
       "      <td>5.0</td>\n",
       "      <td>Skoda</td>\n",
       "      <td>9</td>\n",
       "    </tr>\n",
       "    <tr>\n",
       "      <th>2</th>\n",
       "      <td>158000</td>\n",
       "      <td>140000</td>\n",
       "      <td>Petrol</td>\n",
       "      <td>Individual</td>\n",
       "      <td>Manual</td>\n",
       "      <td>Third Owner</td>\n",
       "      <td>17.70</td>\n",
       "      <td>1497.0</td>\n",
       "      <td>78.00</td>\n",
       "      <td>5.0</td>\n",
       "      <td>Honda</td>\n",
       "      <td>17</td>\n",
       "    </tr>\n",
       "    <tr>\n",
       "      <th>3</th>\n",
       "      <td>225000</td>\n",
       "      <td>127000</td>\n",
       "      <td>Diesel</td>\n",
       "      <td>Individual</td>\n",
       "      <td>Manual</td>\n",
       "      <td>First Owner</td>\n",
       "      <td>23.00</td>\n",
       "      <td>1396.0</td>\n",
       "      <td>90.00</td>\n",
       "      <td>5.0</td>\n",
       "      <td>Hyundai</td>\n",
       "      <td>13</td>\n",
       "    </tr>\n",
       "    <tr>\n",
       "      <th>4</th>\n",
       "      <td>130000</td>\n",
       "      <td>120000</td>\n",
       "      <td>Petrol</td>\n",
       "      <td>Individual</td>\n",
       "      <td>Manual</td>\n",
       "      <td>First Owner</td>\n",
       "      <td>16.10</td>\n",
       "      <td>1298.0</td>\n",
       "      <td>88.20</td>\n",
       "      <td>5.0</td>\n",
       "      <td>Maruti</td>\n",
       "      <td>16</td>\n",
       "    </tr>\n",
       "  </tbody>\n",
       "</table>\n",
       "</div>"
      ],
      "text/plain": [
       "   selling_price  km_driven    fuel seller_type transmission         owner  \\\n",
       "0         450000     145500  Diesel  Individual       Manual   First Owner   \n",
       "1         370000     120000  Diesel  Individual       Manual  Second Owner   \n",
       "2         158000     140000  Petrol  Individual       Manual   Third Owner   \n",
       "3         225000     127000  Diesel  Individual       Manual   First Owner   \n",
       "4         130000     120000  Petrol  Individual       Manual   First Owner   \n",
       "\n",
       "   mileage  engine  max_power  seats car_brand_name  car_age  \n",
       "0    23.40  1248.0      74.00    5.0         Maruti        9  \n",
       "1    21.14  1498.0     103.52    5.0          Skoda        9  \n",
       "2    17.70  1497.0      78.00    5.0          Honda       17  \n",
       "3    23.00  1396.0      90.00    5.0        Hyundai       13  \n",
       "4    16.10  1298.0      88.20    5.0         Maruti       16  "
      ]
     },
     "execution_count": 27,
     "metadata": {},
     "output_type": "execute_result"
    }
   ],
   "source": [
    "df.head()"
   ]
  },
  {
   "cell_type": "code",
   "execution_count": 28,
   "id": "bdddcc4b",
   "metadata": {},
   "outputs": [
    {
     "name": "stdout",
     "output_type": "stream",
     "text": [
      "class frequency of 'fuel' variable: \n",
      "\n",
      " Diesel    4402\n",
      "Petrol    3631\n",
      "CNG         57\n",
      "LPG         38\n",
      "Name: fuel, dtype: int64\n",
      "--------------------------------------------------------------------\n",
      " class frequency of 'seller_type' variable: \n",
      "\n",
      " Individual          6766\n",
      "Dealer              1126\n",
      "Trustmark Dealer     236\n",
      "Name: seller_type, dtype: int64\n",
      "----------------------------------------------------------------------\n",
      "class frequency of 'transmission' variable: \n",
      "\n",
      " Manual       7078\n",
      "Automatic    1050\n",
      "Name: transmission, dtype: int64\n",
      "-----------------------------------------------------------------------\n",
      "class frequency of 'owner' variable: \n",
      "\n",
      " First Owner             5289\n",
      "Second Owner            2105\n",
      "Third Owner              555\n",
      "Fourth & Above Owner     174\n",
      "Test Drive Car             5\n",
      "Name: owner, dtype: int64\n",
      "-----------------------------------------------------------------------\n",
      "class frequency of 'car_brand_name' variable: \n",
      "\n",
      " Maruti           2448\n",
      "Hyundai          1415\n",
      "Mahindra          772\n",
      "Tata              734\n",
      "Toyota            488\n",
      "Honda             467\n",
      "Ford              397\n",
      "Chevrolet         230\n",
      "Renault           228\n",
      "Volkswagen        186\n",
      "BMW               120\n",
      "Skoda             105\n",
      "Nissan             81\n",
      "Jaguar             71\n",
      "Volvo              67\n",
      "Datsun             65\n",
      "Mercedes-Benz      54\n",
      "Fiat               47\n",
      "Audi               40\n",
      "Lexus              34\n",
      "Jeep               31\n",
      "Mitsubishi         14\n",
      "Land                6\n",
      "Force               6\n",
      "Isuzu               5\n",
      "Kia                 4\n",
      "Ambassador          4\n",
      "MG                  3\n",
      "Daewoo              3\n",
      "Opel                1\n",
      "Peugeot             1\n",
      "Ashok               1\n",
      "Name: car_brand_name, dtype: int64\n",
      "-----------------------------------------------------------------------\n"
     ]
    }
   ],
   "source": [
    "# get frequency of some  variable\n",
    "\n",
    "print(\"class frequency of 'fuel' variable: \\n\\n\",df['fuel'].value_counts())\n",
    "\n",
    "print(\"--------------------------------------------------------------------\")\n",
    "\n",
    "print(\" class frequency of 'seller_type' variable: \\n\\n\",df['seller_type'].value_counts())\n",
    "\n",
    "print(\"----------------------------------------------------------------------\")\n",
    "\n",
    "print(\"class frequency of 'transmission' variable: \\n\\n\",df['transmission'].value_counts())\n",
    "\n",
    "print(\"-----------------------------------------------------------------------\")\n",
    "\n",
    "print(\"class frequency of 'owner' variable: \\n\\n\",df['owner'].value_counts())\n",
    "\n",
    "print(\"-----------------------------------------------------------------------\")\n",
    "\n",
    "print(\"class frequency of 'car_brand_name' variable: \\n\\n\",df['car_brand_name'].value_counts())\n",
    "\n",
    "print(\"-----------------------------------------------------------------------\")\n",
    "\n",
    "\n"
   ]
  },
  {
   "cell_type": "code",
   "execution_count": 29,
   "id": "c361b5a6",
   "metadata": {},
   "outputs": [
    {
     "data": {
      "text/html": [
       "<style type=\"text/css\">\n",
       "#T_e1020_row0_col0, #T_e1020_row1_col1, #T_e1020_row2_col2, #T_e1020_row3_col3, #T_e1020_row4_col4, #T_e1020_row5_col5, #T_e1020_row6_col6 {\n",
       "  background-color: #ffc77f;\n",
       "  color: #000000;\n",
       "}\n",
       "#T_e1020_row0_col1, #T_e1020_row0_col6, #T_e1020_row2_col3, #T_e1020_row2_col4, #T_e1020_row2_col5, #T_e1020_row3_col2, #T_e1020_row6_col0 {\n",
       "  background-color: #000000;\n",
       "  color: #f1f1f1;\n",
       "}\n",
       "#T_e1020_row0_col2, #T_e1020_row5_col6 {\n",
       "  background-color: #5a3924;\n",
       "  color: #f1f1f1;\n",
       "}\n",
       "#T_e1020_row0_col3 {\n",
       "  background-color: #ce8253;\n",
       "  color: #f1f1f1;\n",
       "}\n",
       "#T_e1020_row0_col4, #T_e1020_row4_col3 {\n",
       "  background-color: #ffa267;\n",
       "  color: #000000;\n",
       "}\n",
       "#T_e1020_row0_col5, #T_e1020_row6_col3 {\n",
       "  background-color: #6b442b;\n",
       "  color: #f1f1f1;\n",
       "}\n",
       "#T_e1020_row1_col0, #T_e1020_row4_col6 {\n",
       "  background-color: #2a1b11;\n",
       "  color: #f1f1f1;\n",
       "}\n",
       "#T_e1020_row1_col2 {\n",
       "  background-color: #503320;\n",
       "  color: #f1f1f1;\n",
       "}\n",
       "#T_e1020_row1_col3 {\n",
       "  background-color: #9a623e;\n",
       "  color: #f1f1f1;\n",
       "}\n",
       "#T_e1020_row1_col4 {\n",
       "  background-color: #4b301e;\n",
       "  color: #f1f1f1;\n",
       "}\n",
       "#T_e1020_row1_col5 {\n",
       "  background-color: #925c3b;\n",
       "  color: #f1f1f1;\n",
       "}\n",
       "#T_e1020_row1_col6 {\n",
       "  background-color: #b9754b;\n",
       "  color: #f1f1f1;\n",
       "}\n",
       "#T_e1020_row2_col0 {\n",
       "  background-color: #40291a;\n",
       "  color: #f1f1f1;\n",
       "}\n",
       "#T_e1020_row2_col1 {\n",
       "  background-color: #0e0905;\n",
       "  color: #f1f1f1;\n",
       "}\n",
       "#T_e1020_row2_col6 {\n",
       "  background-color: #160e09;\n",
       "  color: #f1f1f1;\n",
       "}\n",
       "#T_e1020_row3_col0 {\n",
       "  background-color: #c27b4e;\n",
       "  color: #f1f1f1;\n",
       "}\n",
       "#T_e1020_row3_col1 {\n",
       "  background-color: #6d452c;\n",
       "  color: #f1f1f1;\n",
       "}\n",
       "#T_e1020_row3_col4 {\n",
       "  background-color: #f79c64;\n",
       "  color: #000000;\n",
       "}\n",
       "#T_e1020_row3_col5 {\n",
       "  background-color: #e7925d;\n",
       "  color: #f1f1f1;\n",
       "}\n",
       "#T_e1020_row3_col6 {\n",
       "  background-color: #543522;\n",
       "  color: #f1f1f1;\n",
       "}\n",
       "#T_e1020_row4_col0 {\n",
       "  background-color: #ffa468;\n",
       "  color: #000000;\n",
       "}\n",
       "#T_e1020_row4_col1 {\n",
       "  background-color: #2f1e13;\n",
       "  color: #f1f1f1;\n",
       "}\n",
       "#T_e1020_row4_col2 {\n",
       "  background-color: #281910;\n",
       "  color: #f1f1f1;\n",
       "}\n",
       "#T_e1020_row4_col5 {\n",
       "  background-color: #8c5838;\n",
       "  color: #f1f1f1;\n",
       "}\n",
       "#T_e1020_row5_col0 {\n",
       "  background-color: #674129;\n",
       "  color: #f1f1f1;\n",
       "}\n",
       "#T_e1020_row5_col1 {\n",
       "  background-color: #73492e;\n",
       "  color: #f1f1f1;\n",
       "}\n",
       "#T_e1020_row5_col2 {\n",
       "  background-color: #19100a;\n",
       "  color: #f1f1f1;\n",
       "}\n",
       "#T_e1020_row5_col3 {\n",
       "  background-color: #ed9660;\n",
       "  color: #f1f1f1;\n",
       "}\n",
       "#T_e1020_row5_col4 {\n",
       "  background-color: #825234;\n",
       "  color: #f1f1f1;\n",
       "}\n",
       "#T_e1020_row6_col1 {\n",
       "  background-color: #a66943;\n",
       "  color: #f1f1f1;\n",
       "}\n",
       "#T_e1020_row6_col2 {\n",
       "  background-color: #342115;\n",
       "  color: #f1f1f1;\n",
       "}\n",
       "#T_e1020_row6_col4 {\n",
       "  background-color: #21150d;\n",
       "  color: #f1f1f1;\n",
       "}\n",
       "#T_e1020_row6_col5 {\n",
       "  background-color: #5f3c26;\n",
       "  color: #f1f1f1;\n",
       "}\n",
       "</style>\n",
       "<table id=\"T_e1020\">\n",
       "  <thead>\n",
       "    <tr>\n",
       "      <th class=\"blank level0\" >&nbsp;</th>\n",
       "      <th id=\"T_e1020_level0_col0\" class=\"col_heading level0 col0\" >selling_price</th>\n",
       "      <th id=\"T_e1020_level0_col1\" class=\"col_heading level0 col1\" >km_driven</th>\n",
       "      <th id=\"T_e1020_level0_col2\" class=\"col_heading level0 col2\" >mileage</th>\n",
       "      <th id=\"T_e1020_level0_col3\" class=\"col_heading level0 col3\" >engine</th>\n",
       "      <th id=\"T_e1020_level0_col4\" class=\"col_heading level0 col4\" >max_power</th>\n",
       "      <th id=\"T_e1020_level0_col5\" class=\"col_heading level0 col5\" >seats</th>\n",
       "      <th id=\"T_e1020_level0_col6\" class=\"col_heading level0 col6\" >car_age</th>\n",
       "    </tr>\n",
       "  </thead>\n",
       "  <tbody>\n",
       "    <tr>\n",
       "      <th id=\"T_e1020_level0_row0\" class=\"row_heading level0 row0\" >selling_price</th>\n",
       "      <td id=\"T_e1020_row0_col0\" class=\"data row0 col0\" >1.000000</td>\n",
       "      <td id=\"T_e1020_row0_col1\" class=\"data row0 col1\" >-0.225534</td>\n",
       "      <td id=\"T_e1020_row0_col2\" class=\"data row0 col2\" >-0.125040</td>\n",
       "      <td id=\"T_e1020_row0_col3\" class=\"data row0 col3\" >0.458345</td>\n",
       "      <td id=\"T_e1020_row0_col4\" class=\"data row0 col4\" >0.747935</td>\n",
       "      <td id=\"T_e1020_row0_col5\" class=\"data row0 col5\" >0.047135</td>\n",
       "      <td id=\"T_e1020_row0_col6\" class=\"data row0 col6\" >-0.414092</td>\n",
       "    </tr>\n",
       "    <tr>\n",
       "      <th id=\"T_e1020_level0_row1\" class=\"row_heading level0 row1\" >km_driven</th>\n",
       "      <td id=\"T_e1020_row1_col0\" class=\"data row1 col0\" >-0.225534</td>\n",
       "      <td id=\"T_e1020_row1_col1\" class=\"data row1 col1\" >1.000000</td>\n",
       "      <td id=\"T_e1020_row1_col2\" class=\"data row1 col2\" >-0.171746</td>\n",
       "      <td id=\"T_e1020_row1_col3\" class=\"data row1 col3\" >0.198911</td>\n",
       "      <td id=\"T_e1020_row1_col4\" class=\"data row1 col4\" >-0.040599</td>\n",
       "      <td id=\"T_e1020_row1_col5\" class=\"data row1 col5\" >0.219860</td>\n",
       "      <td id=\"T_e1020_row1_col6\" class=\"data row1 col6\" >0.418006</td>\n",
       "    </tr>\n",
       "    <tr>\n",
       "      <th id=\"T_e1020_level0_row2\" class=\"row_heading level0 row2\" >mileage</th>\n",
       "      <td id=\"T_e1020_row2_col0\" class=\"data row2 col0\" >-0.125040</td>\n",
       "      <td id=\"T_e1020_row2_col1\" class=\"data row2 col1\" >-0.171746</td>\n",
       "      <td id=\"T_e1020_row2_col2\" class=\"data row2 col2\" >1.000000</td>\n",
       "      <td id=\"T_e1020_row2_col3\" class=\"data row2 col3\" >-0.574128</td>\n",
       "      <td id=\"T_e1020_row2_col4\" class=\"data row2 col4\" >-0.372897</td>\n",
       "      <td id=\"T_e1020_row2_col5\" class=\"data row2 col5\" >-0.450578</td>\n",
       "      <td id=\"T_e1020_row2_col6\" class=\"data row2 col6\" >-0.311657</td>\n",
       "    </tr>\n",
       "    <tr>\n",
       "      <th id=\"T_e1020_level0_row3\" class=\"row_heading level0 row3\" >engine</th>\n",
       "      <td id=\"T_e1020_row3_col0\" class=\"data row3 col0\" >0.458345</td>\n",
       "      <td id=\"T_e1020_row3_col1\" class=\"data row3 col1\" >0.198911</td>\n",
       "      <td id=\"T_e1020_row3_col2\" class=\"data row3 col2\" >-0.574128</td>\n",
       "      <td id=\"T_e1020_row3_col3\" class=\"data row3 col3\" >1.000000</td>\n",
       "      <td id=\"T_e1020_row3_col4\" class=\"data row3 col4\" >0.703612</td>\n",
       "      <td id=\"T_e1020_row3_col5\" class=\"data row3 col5\" >0.612220</td>\n",
       "      <td id=\"T_e1020_row3_col6\" class=\"data row3 col6\" >-0.035851</td>\n",
       "    </tr>\n",
       "    <tr>\n",
       "      <th id=\"T_e1020_level0_row4\" class=\"row_heading level0 row4\" >max_power</th>\n",
       "      <td id=\"T_e1020_row4_col0\" class=\"data row4 col0\" >0.747935</td>\n",
       "      <td id=\"T_e1020_row4_col1\" class=\"data row4 col1\" >-0.040599</td>\n",
       "      <td id=\"T_e1020_row4_col2\" class=\"data row4 col2\" >-0.372897</td>\n",
       "      <td id=\"T_e1020_row4_col3\" class=\"data row4 col3\" >0.703612</td>\n",
       "      <td id=\"T_e1020_row4_col4\" class=\"data row4 col4\" >1.000000</td>\n",
       "      <td id=\"T_e1020_row4_col5\" class=\"data row4 col5\" >0.194556</td>\n",
       "      <td id=\"T_e1020_row4_col6\" class=\"data row4 col6\" >-0.224704</td>\n",
       "    </tr>\n",
       "    <tr>\n",
       "      <th id=\"T_e1020_level0_row5\" class=\"row_heading level0 row5\" >seats</th>\n",
       "      <td id=\"T_e1020_row5_col0\" class=\"data row5 col0\" >0.047135</td>\n",
       "      <td id=\"T_e1020_row5_col1\" class=\"data row5 col1\" >0.219860</td>\n",
       "      <td id=\"T_e1020_row5_col2\" class=\"data row5 col2\" >-0.450578</td>\n",
       "      <td id=\"T_e1020_row5_col3\" class=\"data row5 col3\" >0.612220</td>\n",
       "      <td id=\"T_e1020_row5_col4\" class=\"data row5 col4\" >0.194556</td>\n",
       "      <td id=\"T_e1020_row5_col5\" class=\"data row5 col5\" >1.000000</td>\n",
       "      <td id=\"T_e1020_row5_col6\" class=\"data row5 col6\" >-0.010222</td>\n",
       "    </tr>\n",
       "    <tr>\n",
       "      <th id=\"T_e1020_level0_row6\" class=\"row_heading level0 row6\" >car_age</th>\n",
       "      <td id=\"T_e1020_row6_col0\" class=\"data row6 col0\" >-0.414092</td>\n",
       "      <td id=\"T_e1020_row6_col1\" class=\"data row6 col1\" >0.418006</td>\n",
       "      <td id=\"T_e1020_row6_col2\" class=\"data row6 col2\" >-0.311657</td>\n",
       "      <td id=\"T_e1020_row6_col3\" class=\"data row6 col3\" >-0.035851</td>\n",
       "      <td id=\"T_e1020_row6_col4\" class=\"data row6 col4\" >-0.224704</td>\n",
       "      <td id=\"T_e1020_row6_col5\" class=\"data row6 col5\" >-0.010222</td>\n",
       "      <td id=\"T_e1020_row6_col6\" class=\"data row6 col6\" >1.000000</td>\n",
       "    </tr>\n",
       "  </tbody>\n",
       "</table>\n"
      ],
      "text/plain": [
       "<pandas.io.formats.style.Styler at 0x24ad894f1c0>"
      ]
     },
     "execution_count": 29,
     "metadata": {},
     "output_type": "execute_result"
    }
   ],
   "source": [
    "# check correlation between the variable of dataset\n",
    "\n",
    "df.corr().style.background_gradient(cmap='copper')"
   ]
  },
  {
   "cell_type": "raw",
   "id": "f32403dd",
   "metadata": {},
   "source": [
    "# correlation detected\n",
    "\n",
    "As seen there is high correlation between some of the variables:\n",
    "     1. Between ' mileage ' and 'engine' variables is -0.57\n",
    "     2. Between ' max_power' and 'engine' variable is 0.70\n",
    "     3. Between ' seats' and 'engine' variable is 0.61\n",
    "     4. Between 'max_power' and 'selling_price' variables is 0.74\n",
    "    \n",
    "There is middle level of correlation between other variables too.    "
   ]
  },
  {
   "cell_type": "markdown",
   "id": "6d184f10",
   "metadata": {},
   "source": [
    "# lets do some visualization of using \"Boxplot\""
   ]
  },
  {
   "cell_type": "code",
   "execution_count": 30,
   "id": "882a98a7",
   "metadata": {},
   "outputs": [
    {
     "data": {
      "image/png": "[encoded data removed]",
      "text/plain": [
       "<Figure size 3000x700 with 3 Axes>"
      ]
     },
     "metadata": {},
     "output_type": "display_data"
    }
   ],
   "source": [
    "fig,axes = plt.subplots(1,3, figsize= (30,7))\n",
    "\n",
    "sns.boxplot(ax=axes[0],x='selling_price',data=df,width=0.5,fliersize=3,linewidth=1);\n",
    "sns.boxplot(ax=axes[1],x='km_driven',data=df,width=0.5,fliersize=3,linewidth=2);\n",
    "sns.boxplot(ax=axes[2],x='mileage',data=df,width=0.5,fliersize=3,linewidth=3);\n"
   ]
  },
  {
   "cell_type": "code",
   "execution_count": 31,
   "id": "4113ec1a",
   "metadata": {},
   "outputs": [
    {
     "data": {
      "image/png": "[encoded data removed]",
      "text/plain": [
       "<Figure size 3000x2000 with 4 Axes>"
      ]
     },
     "metadata": {},
     "output_type": "display_data"
    }
   ],
   "source": [
    "fig,axes = plt.subplots(2,2, figsize= (30,20))\n",
    "axes=axes.flatten()\n",
    "\n",
    "sns.boxplot(ax=axes[0],x='engine',data=df,width=0.5,fliersize=3,linewidth=1);\n",
    "sns.boxplot(ax=axes[1],x='max_power',data=df,width=0.5,fliersize=3,linewidth=1);\n",
    "sns.boxplot(ax=axes[2],x='seats',data=df,width=0.5,fliersize=3,linewidth=1);\n",
    "sns.boxplot(ax=axes[3],x='car_age',data=df,width=0.5,fliersize=3,linewidth=1);"
   ]
  },
  {
   "cell_type": "code",
   "execution_count": 34,
   "id": "b0f3daf2",
   "metadata": {},
   "outputs": [],
   "source": [
    "# Removing Outliers from selling_price\n",
    "\n",
    "Q1 = df['selling_price'].quantile(0.25)\n",
    "Q3 = df['selling_price'].quantile(0.75)\n",
    "iqr = Q3-Q1\n",
    "li = Q1-(1.5*iqr)\n",
    "ul = Q3+(1.5*iqr)\n",
    "df = df[df['selling_price']>= li]\n",
    "df = df[df['selling_price']<=ul]"
   ]
  },
  {
   "cell_type": "code",
   "execution_count": 107,
   "id": "f483358d",
   "metadata": {},
   "outputs": [
    {
     "data": {
      "image/png": "[encoded data removed]",
      "text/plain": [
       "<Figure size 3000x700 with 2 Axes>"
      ]
     },
     "metadata": {},
     "output_type": "display_data"
    }
   ],
   "source": [
    "fig,axes = plt.subplots(1,2,figsize= (30,7))\n",
    "sns.boxplot(ax=axes[0],x='selling_price',data=df,width=0.5,fliersize=3,linewidth=1);\n"
   ]
  },
  {
   "cell_type": "code",
   "execution_count": 36,
   "id": "b258e563",
   "metadata": {},
   "outputs": [],
   "source": [
    "# Removing Outliers from km_driven\n",
    "\n",
    "Q1 = df['km_driven'].quantile(0.25)\n",
    "Q3 = df['km_driven'].quantile(0.75)\n",
    "iqr = Q3-Q1\n",
    "li = Q1-(1.5*iqr)\n",
    "ul = Q3+(1.5*iqr)\n",
    "df = df[df['km_driven']>= li]\n",
    "df = df[df['km_driven']<=ul]"
   ]
  },
  {
   "cell_type": "code",
   "execution_count": 113,
   "id": "7287a865",
   "metadata": {},
   "outputs": [
    {
     "data": {
      "image/png": "[encoded data removed]",
      "text/plain": [
       "<Figure size 3000x700 with 3 Axes>"
      ]
     },
     "metadata": {},
     "output_type": "display_data"
    }
   ],
   "source": [
    "fig,axes = plt.subplots(1,3,figsize= (30,7))\n",
    "\n",
    "\n",
    "sns.boxplot(ax=axes[0],x='selling_price',data=df,width=0.5,fliersize=3,linewidth=1);\n",
    "sns.boxplot(ax=axes[1],x='km_driven',data=df,width=0.5,fliersize=3,linewidth=2);\n",
    "sns.boxplot(ax=axes[2],x='mileage',data=df,width=0.5,fliersize=3,linewidth=3);\n"
   ]
  },
  {
   "cell_type": "code",
   "execution_count": 38,
   "id": "51c35949",
   "metadata": {},
   "outputs": [
    {
     "data": {
      "text/plain": [
       "['fuel', 'transmission', 'owner', 'seller_type']"
      ]
     },
     "execution_count": 38,
     "metadata": {},
     "output_type": "execute_result"
    }
   ],
   "source": [
    "categoric_columns"
   ]
  },
  {
   "cell_type": "markdown",
   "id": "014fbd46",
   "metadata": {},
   "source": [
    "#lets visualizes frequency of class\n",
    "categoric_columns"
   ]
  },
  {
   "cell_type": "code",
   "execution_count": 39,
   "id": "a284b4da",
   "metadata": {},
   "outputs": [
    {
     "data": {
      "image/png": "[encoded data removed]",
      "text/plain": [
       "<Figure size 5000x1000 with 5 Axes>"
      ]
     },
     "metadata": {},
     "output_type": "display_data"
    }
   ],
   "source": [
    "fig,axes=plt.subplots(1,5,figsize=(50,10))\n",
    "\n",
    "sns.barplot(ax = axes[0], x = df[\"fuel\"].value_counts().index, y = df[\"fuel\"].value_counts(),\n",
    "            saturation = 1).set(title = \"Frequency of classes of the 'fuel' variable\");\n",
    "\n",
    "sns.barplot(ax = axes[1], x = df[\"transmission\"].value_counts().index, y = df[\"transmission\"].value_counts(),\n",
    "            saturation = 1).set(title = \"Frequency of classes of the 'tranmission' variable\");\n",
    "\n",
    "sns.barplot(ax = axes[2], x = df[\"owner\"].value_counts().index, y = df[\"owner\"].value_counts(),\n",
    "            saturation = 1).set(title = \"Frequency of classes of the 'owner' variable\");\n",
    "\n",
    "sns.barplot(ax = axes[3], x = df['seller_type'].value_counts().index, y = df['seller_type'].value_counts(),\n",
    "            saturation = 1).set(title = \"Frequency of classes of the'seller_type' variable\");\n",
    "\n",
    "sns.barplot(ax = axes[4], x = df['car_brand_name'].value_counts().index, y = df['car_brand_name'].value_counts(),\n",
    "            saturation = 1).set(title = \"Frequency of classes of the'car_brand_name' variable\");\n"
   ]
  },
  {
   "cell_type": "code",
   "execution_count": 40,
   "id": "3a69e670",
   "metadata": {},
   "outputs": [
    {
     "data": {
      "text/html": [
       "<div>\n",
       "<style scoped>\n",
       "    .dataframe tbody tr th:only-of-type {\n",
       "        vertical-align: middle;\n",
       "    }\n",
       "\n",
       "    .dataframe tbody tr th {\n",
       "        vertical-align: top;\n",
       "    }\n",
       "\n",
       "    .dataframe thead th {\n",
       "        text-align: right;\n",
       "    }\n",
       "</style>\n",
       "<table border=\"1\" class=\"dataframe\">\n",
       "  <thead>\n",
       "    <tr style=\"text-align: right;\">\n",
       "      <th></th>\n",
       "      <th>selling_price</th>\n",
       "      <th>km_driven</th>\n",
       "      <th>fuel</th>\n",
       "      <th>seller_type</th>\n",
       "      <th>transmission</th>\n",
       "      <th>owner</th>\n",
       "      <th>mileage</th>\n",
       "      <th>engine</th>\n",
       "      <th>max_power</th>\n",
       "      <th>seats</th>\n",
       "      <th>car_brand_name</th>\n",
       "      <th>car_age</th>\n",
       "    </tr>\n",
       "  </thead>\n",
       "  <tbody>\n",
       "    <tr>\n",
       "      <th>0</th>\n",
       "      <td>450000</td>\n",
       "      <td>145500</td>\n",
       "      <td>Diesel</td>\n",
       "      <td>Individual</td>\n",
       "      <td>Manual</td>\n",
       "      <td>First Owner</td>\n",
       "      <td>23.40</td>\n",
       "      <td>1248.0</td>\n",
       "      <td>74.00</td>\n",
       "      <td>5.0</td>\n",
       "      <td>Maruti</td>\n",
       "      <td>9</td>\n",
       "    </tr>\n",
       "    <tr>\n",
       "      <th>1</th>\n",
       "      <td>370000</td>\n",
       "      <td>120000</td>\n",
       "      <td>Diesel</td>\n",
       "      <td>Individual</td>\n",
       "      <td>Manual</td>\n",
       "      <td>Second Owner</td>\n",
       "      <td>21.14</td>\n",
       "      <td>1498.0</td>\n",
       "      <td>103.52</td>\n",
       "      <td>5.0</td>\n",
       "      <td>Skoda</td>\n",
       "      <td>9</td>\n",
       "    </tr>\n",
       "    <tr>\n",
       "      <th>2</th>\n",
       "      <td>158000</td>\n",
       "      <td>140000</td>\n",
       "      <td>Petrol</td>\n",
       "      <td>Individual</td>\n",
       "      <td>Manual</td>\n",
       "      <td>Third Owner</td>\n",
       "      <td>17.70</td>\n",
       "      <td>1497.0</td>\n",
       "      <td>78.00</td>\n",
       "      <td>5.0</td>\n",
       "      <td>Honda</td>\n",
       "      <td>17</td>\n",
       "    </tr>\n",
       "    <tr>\n",
       "      <th>3</th>\n",
       "      <td>225000</td>\n",
       "      <td>127000</td>\n",
       "      <td>Diesel</td>\n",
       "      <td>Individual</td>\n",
       "      <td>Manual</td>\n",
       "      <td>First Owner</td>\n",
       "      <td>23.00</td>\n",
       "      <td>1396.0</td>\n",
       "      <td>90.00</td>\n",
       "      <td>5.0</td>\n",
       "      <td>Hyundai</td>\n",
       "      <td>13</td>\n",
       "    </tr>\n",
       "    <tr>\n",
       "      <th>4</th>\n",
       "      <td>130000</td>\n",
       "      <td>120000</td>\n",
       "      <td>Petrol</td>\n",
       "      <td>Individual</td>\n",
       "      <td>Manual</td>\n",
       "      <td>First Owner</td>\n",
       "      <td>16.10</td>\n",
       "      <td>1298.0</td>\n",
       "      <td>88.20</td>\n",
       "      <td>5.0</td>\n",
       "      <td>Maruti</td>\n",
       "      <td>16</td>\n",
       "    </tr>\n",
       "  </tbody>\n",
       "</table>\n",
       "</div>"
      ],
      "text/plain": [
       "   selling_price  km_driven    fuel seller_type transmission         owner  \\\n",
       "0         450000     145500  Diesel  Individual       Manual   First Owner   \n",
       "1         370000     120000  Diesel  Individual       Manual  Second Owner   \n",
       "2         158000     140000  Petrol  Individual       Manual   Third Owner   \n",
       "3         225000     127000  Diesel  Individual       Manual   First Owner   \n",
       "4         130000     120000  Petrol  Individual       Manual   First Owner   \n",
       "\n",
       "   mileage  engine  max_power  seats car_brand_name  car_age  \n",
       "0    23.40  1248.0      74.00    5.0         Maruti        9  \n",
       "1    21.14  1498.0     103.52    5.0          Skoda        9  \n",
       "2    17.70  1497.0      78.00    5.0          Honda       17  \n",
       "3    23.00  1396.0      90.00    5.0        Hyundai       13  \n",
       "4    16.10  1298.0      88.20    5.0         Maruti       16  "
      ]
     },
     "execution_count": 40,
     "metadata": {},
     "output_type": "execute_result"
    }
   ],
   "source": [
    "df.head()"
   ]
  },
  {
   "cell_type": "code",
   "execution_count": 41,
   "id": "2a3d4aa4",
   "metadata": {},
   "outputs": [],
   "source": [
    "# convert categorical variable into numerical variable\n",
    "from sklearn.preprocessing import LabelEncoder\n",
    "\n",
    "#initialize the label encoder\n",
    "le=LabelEncoder()\n",
    "\n",
    "# create a list of the categorical columns in your dataframe\n",
    "cat_cols=['fuel','seller_type','transmission','owner']\n",
    "\n",
    "#loop through each categorical column\n",
    "for col in cat_cols:\n",
    "    #fit the label encoder on the column\n",
    "    le.fit(df[col])\n",
    "    \n",
    "    #transform the column into numerical values\n",
    "    \n",
    "    df[col]=le.transform(df[col])\n",
    "    "
   ]
  },
  {
   "cell_type": "code",
   "execution_count": 42,
   "id": "3c8bc8df",
   "metadata": {},
   "outputs": [
    {
     "data": {
      "text/html": [
       "<div>\n",
       "<style scoped>\n",
       "    .dataframe tbody tr th:only-of-type {\n",
       "        vertical-align: middle;\n",
       "    }\n",
       "\n",
       "    .dataframe tbody tr th {\n",
       "        vertical-align: top;\n",
       "    }\n",
       "\n",
       "    .dataframe thead th {\n",
       "        text-align: right;\n",
       "    }\n",
       "</style>\n",
       "<table border=\"1\" class=\"dataframe\">\n",
       "  <thead>\n",
       "    <tr style=\"text-align: right;\">\n",
       "      <th></th>\n",
       "      <th>selling_price</th>\n",
       "      <th>km_driven</th>\n",
       "      <th>fuel</th>\n",
       "      <th>seller_type</th>\n",
       "      <th>transmission</th>\n",
       "      <th>owner</th>\n",
       "      <th>mileage</th>\n",
       "      <th>engine</th>\n",
       "      <th>max_power</th>\n",
       "      <th>seats</th>\n",
       "      <th>car_brand_name</th>\n",
       "      <th>car_age</th>\n",
       "    </tr>\n",
       "  </thead>\n",
       "  <tbody>\n",
       "    <tr>\n",
       "      <th>0</th>\n",
       "      <td>450000</td>\n",
       "      <td>145500</td>\n",
       "      <td>1</td>\n",
       "      <td>1</td>\n",
       "      <td>1</td>\n",
       "      <td>0</td>\n",
       "      <td>23.40</td>\n",
       "      <td>1248.0</td>\n",
       "      <td>74.00</td>\n",
       "      <td>5.0</td>\n",
       "      <td>Maruti</td>\n",
       "      <td>9</td>\n",
       "    </tr>\n",
       "    <tr>\n",
       "      <th>1</th>\n",
       "      <td>370000</td>\n",
       "      <td>120000</td>\n",
       "      <td>1</td>\n",
       "      <td>1</td>\n",
       "      <td>1</td>\n",
       "      <td>2</td>\n",
       "      <td>21.14</td>\n",
       "      <td>1498.0</td>\n",
       "      <td>103.52</td>\n",
       "      <td>5.0</td>\n",
       "      <td>Skoda</td>\n",
       "      <td>9</td>\n",
       "    </tr>\n",
       "    <tr>\n",
       "      <th>2</th>\n",
       "      <td>158000</td>\n",
       "      <td>140000</td>\n",
       "      <td>3</td>\n",
       "      <td>1</td>\n",
       "      <td>1</td>\n",
       "      <td>3</td>\n",
       "      <td>17.70</td>\n",
       "      <td>1497.0</td>\n",
       "      <td>78.00</td>\n",
       "      <td>5.0</td>\n",
       "      <td>Honda</td>\n",
       "      <td>17</td>\n",
       "    </tr>\n",
       "    <tr>\n",
       "      <th>3</th>\n",
       "      <td>225000</td>\n",
       "      <td>127000</td>\n",
       "      <td>1</td>\n",
       "      <td>1</td>\n",
       "      <td>1</td>\n",
       "      <td>0</td>\n",
       "      <td>23.00</td>\n",
       "      <td>1396.0</td>\n",
       "      <td>90.00</td>\n",
       "      <td>5.0</td>\n",
       "      <td>Hyundai</td>\n",
       "      <td>13</td>\n",
       "    </tr>\n",
       "    <tr>\n",
       "      <th>4</th>\n",
       "      <td>130000</td>\n",
       "      <td>120000</td>\n",
       "      <td>3</td>\n",
       "      <td>1</td>\n",
       "      <td>1</td>\n",
       "      <td>0</td>\n",
       "      <td>16.10</td>\n",
       "      <td>1298.0</td>\n",
       "      <td>88.20</td>\n",
       "      <td>5.0</td>\n",
       "      <td>Maruti</td>\n",
       "      <td>16</td>\n",
       "    </tr>\n",
       "  </tbody>\n",
       "</table>\n",
       "</div>"
      ],
      "text/plain": [
       "   selling_price  km_driven  fuel  seller_type  transmission  owner  mileage  \\\n",
       "0         450000     145500     1            1             1      0    23.40   \n",
       "1         370000     120000     1            1             1      2    21.14   \n",
       "2         158000     140000     3            1             1      3    17.70   \n",
       "3         225000     127000     1            1             1      0    23.00   \n",
       "4         130000     120000     3            1             1      0    16.10   \n",
       "\n",
       "   engine  max_power  seats car_brand_name  car_age  \n",
       "0  1248.0      74.00    5.0         Maruti        9  \n",
       "1  1498.0     103.52    5.0          Skoda        9  \n",
       "2  1497.0      78.00    5.0          Honda       17  \n",
       "3  1396.0      90.00    5.0        Hyundai       13  \n",
       "4  1298.0      88.20    5.0         Maruti       16  "
      ]
     },
     "execution_count": 42,
     "metadata": {},
     "output_type": "execute_result"
    }
   ],
   "source": [
    "df.head()"
   ]
  },
  {
   "cell_type": "code",
   "execution_count": 43,
   "id": "89e427e3",
   "metadata": {},
   "outputs": [],
   "source": [
    "#divided the data into dependent and independent variale\n",
    "X=df.drop(columns=['selling_price','car_brand_name'])"
   ]
  },
  {
   "cell_type": "code",
   "execution_count": 44,
   "id": "c78bf936",
   "metadata": {},
   "outputs": [],
   "source": [
    "y=df['selling_price']"
   ]
  },
  {
   "cell_type": "code",
   "execution_count": 45,
   "id": "d8210bc4",
   "metadata": {},
   "outputs": [
    {
     "data": {
      "text/plain": [
       "((7277, 10), (7277,))"
      ]
     },
     "execution_count": 45,
     "metadata": {},
     "output_type": "execute_result"
    }
   ],
   "source": [
    "X.shape,y.shape"
   ]
  },
  {
   "cell_type": "code",
   "execution_count": 46,
   "id": "f82f2c95",
   "metadata": {},
   "outputs": [],
   "source": [
    "# split the dataset into train and test set\n",
    "from sklearn.model_selection import train_test_split\n",
    "X_train,X_test,y_train,y_test=train_test_split(X,y,test_size=0.2, random_state=42)"
   ]
  },
  {
   "cell_type": "code",
   "execution_count": 47,
   "id": "0554adf5",
   "metadata": {},
   "outputs": [
    {
     "name": "stdout",
     "output_type": "stream",
     "text": [
      "(5821, 10)\n",
      "(1456, 10)\n"
     ]
    }
   ],
   "source": [
    "print(X_train.shape)\n",
    "print(X_test.shape)"
   ]
  },
  {
   "cell_type": "markdown",
   "id": "c8fb7176",
   "metadata": {},
   "source": [
    "# applying the features scaling part"
   ]
  },
  {
   "cell_type": "code",
   "execution_count": 48,
   "id": "55c629d9",
   "metadata": {},
   "outputs": [],
   "source": [
    "from sklearn.preprocessing import StandardScaler\n",
    "sc=StandardScaler()\n",
    "X_train=sc.fit_transform(X_train)\n",
    "X_test=sc.transform(X_test)"
   ]
  },
  {
   "cell_type": "code",
   "execution_count": 49,
   "id": "03c714aa",
   "metadata": {},
   "outputs": [
    {
     "data": {
      "text/plain": [
       "array([[-0.21112139, -0.94328284,  0.22456114, ...,  0.20193513,\n",
       "        -0.39626658, -0.848704  ],\n",
       "       [ 0.17647948, -0.94328284,  0.22456114, ...,  0.25358328,\n",
       "        -0.39626658,  0.63375841],\n",
       "       [ 1.28926908, -0.94328284,  0.22456114, ..., -0.60044131,\n",
       "        -0.39626658,  1.37498962],\n",
       "       ...,\n",
       "       [-0.96131662,  1.04112245,  0.22456114, ...,  0.00957626,\n",
       "        -0.39626658, -1.09578107],\n",
       "       [-0.46118647, -0.94328284,  0.22456114, ...,  0.00144269,\n",
       "        -0.39626658, -0.60162693],\n",
       "       [-0.46118647,  1.04112245,  0.22456114, ..., -0.6777102 ,\n",
       "        -0.39626658,  0.13960427]])"
      ]
     },
     "execution_count": 49,
     "metadata": {},
     "output_type": "execute_result"
    }
   ],
   "source": [
    "X_train"
   ]
  },
  {
   "cell_type": "code",
   "execution_count": 50,
   "id": "fd7ddb0b",
   "metadata": {},
   "outputs": [
    {
     "data": {
      "text/plain": [
       "array([[-0.83628408, -0.94328284,  0.22456114, ...,  1.01000506,\n",
       "        -0.39626658, -0.848704  ],\n",
       "       [ 1.51432765, -0.94328284,  0.22456114, ...,  1.00390489,\n",
       "        -0.39626658, -0.1074728 ],\n",
       "       [-0.21112139,  1.04112245,  0.22456114, ..., -0.43776995,\n",
       "        -0.39626658, -0.60162693],\n",
       "       ...,\n",
       "       [ 0.78913892, -0.94328284,  0.22456114, ..., -0.88104938,\n",
       "         1.78291886,  0.13960427],\n",
       "       [-0.46118647,  1.04112245,  0.22456114, ...,  1.5264866 ,\n",
       "        -0.39626658,  0.13960427],\n",
       "       [ 0.03894369, -0.94328284,  0.22456114, ..., -0.64110914,\n",
       "        -0.39626658,  0.88083548]])"
      ]
     },
     "execution_count": 50,
     "metadata": {},
     "output_type": "execute_result"
    }
   ],
   "source": [
    "X_test"
   ]
  },
  {
   "cell_type": "code",
   "execution_count": 51,
   "id": "b80c8f55",
   "metadata": {},
   "outputs": [
    {
     "data": {
      "text/plain": [
       "LinearRegression()"
      ]
     },
     "execution_count": 51,
     "metadata": {},
     "output_type": "execute_result"
    }
   ],
   "source": [
    "#applying linear regression\n",
    "from sklearn.linear_model import LinearRegression\n",
    "regressor= LinearRegression()\n",
    "regressor.fit(X_train,y_train)"
   ]
  },
  {
   "cell_type": "code",
   "execution_count": 52,
   "id": "7b9f2aa1",
   "metadata": {},
   "outputs": [],
   "source": [
    "#predicting the test set result\n",
    "y_pred=regressor.predict(X_test)"
   ]
  },
  {
   "cell_type": "code",
   "execution_count": 53,
   "id": "959e4a56",
   "metadata": {},
   "outputs": [],
   "source": [
    "# evaluation of linear regressor\n",
    "from sklearn.metrics import mean_squared_error,mean_absolute_error,r2_score"
   ]
  },
  {
   "cell_type": "code",
   "execution_count": 54,
   "id": "86208903",
   "metadata": {},
   "outputs": [],
   "source": [
    "#calculate the mse\n",
    "mse=mean_squared_error(y_test,y_pred)"
   ]
  },
  {
   "cell_type": "code",
   "execution_count": 55,
   "id": "35535368",
   "metadata": {},
   "outputs": [
    {
     "data": {
      "text/plain": [
       "16961345007.610762"
      ]
     },
     "execution_count": 55,
     "metadata": {},
     "output_type": "execute_result"
    }
   ],
   "source": [
    "mse"
   ]
  },
  {
   "cell_type": "code",
   "execution_count": 56,
   "id": "61dcba8a",
   "metadata": {},
   "outputs": [
    {
     "name": "stdout",
     "output_type": "stream",
     "text": [
      "mean_absolute_error 102461.69605736891\n"
     ]
    }
   ],
   "source": [
    "#mae\n",
    "mae=mean_absolute_error(y_test,y_pred)\n",
    "print('mean_absolute_error',mae)"
   ]
  },
  {
   "cell_type": "code",
   "execution_count": 57,
   "id": "d25e95d6",
   "metadata": {},
   "outputs": [
    {
     "name": "stdout",
     "output_type": "stream",
     "text": [
      "R-squared 0.7128165286439649\n"
     ]
    }
   ],
   "source": [
    "# r2\n",
    "r2=r2_score(y_test,y_pred)\n",
    "print('R-squared',r2)"
   ]
  },
  {
   "cell_type": "code",
   "execution_count": 58,
   "id": "7501ddbd",
   "metadata": {},
   "outputs": [
    {
     "data": {
      "image/png": "[encoded data removed]",
      "text/plain": [
       "<Figure size 640x480 with 1 Axes>"
      ]
     },
     "metadata": {},
     "output_type": "display_data"
    }
   ],
   "source": [
    "#plot the predicted vs actual values\n",
    "plt.scatter(y_test,y_pred)\n",
    "plt.xlabel('Actual_values')\n",
    "plt.ylabel('Predicted values')\n",
    "plt.title('predicted vs acutal values')\n",
    "plt.show()"
   ]
  },
  {
   "cell_type": "code",
   "execution_count": 59,
   "id": "8dab2b50",
   "metadata": {},
   "outputs": [
    {
     "data": {
      "text/plain": [
       "0.9052369065178345"
      ]
     },
     "execution_count": 59,
     "metadata": {},
     "output_type": "execute_result"
    }
   ],
   "source": [
    "# Applying Random Forest\n",
    "from sklearn.ensemble import RandomForestRegressor\n",
    "rf=RandomForestRegressor(n_estimators=100)\n",
    "rf.fit(X_train,y_train)\n",
    "y_pred_rf=rf.predict(X_test)\n",
    "r2_score(y_test,y_pred_rf)"
   ]
  },
  {
   "cell_type": "code",
   "execution_count": 60,
   "id": "6ffa2bba",
   "metadata": {},
   "outputs": [
    {
     "name": "stdout",
     "output_type": "stream",
     "text": [
      "mean_squared_error 16961345007.610762\n",
      "mean_absolute_error 102461.69605736891\n"
     ]
    }
   ],
   "source": [
    "#calculate the mse\n",
    "mse=mean_squared_error(y_test,y_pred)\n",
    "print('mean_squared_error',mse)\n",
    "\n",
    "#mae\n",
    "mae=mean_absolute_error(y_test,y_pred)\n",
    "print('mean_absolute_error',mae)\n"
   ]
  },
  {
   "cell_type": "code",
   "execution_count": 61,
   "id": "05435dbc",
   "metadata": {},
   "outputs": [
    {
     "data": {
      "image/png": "[encoded data removed]",
      "text/plain": [
       "<Figure size 640x480 with 1 Axes>"
      ]
     },
     "metadata": {},
     "output_type": "display_data"
    }
   ],
   "source": [
    "#plot the predicted vs actual values\n",
    "plt.scatter(y_test,y_pred_rf)\n",
    "plt.xlabel('Actual_values')\n",
    "plt.ylabel('Predicted values')\n",
    "plt.title('predicted vs acutal values')\n",
    "plt.show()"
   ]
  },
  {
   "cell_type": "code",
   "execution_count": 62,
   "id": "93d2ac3b",
   "metadata": {},
   "outputs": [
    {
     "name": "stdout",
     "output_type": "stream",
     "text": [
      "0.832453642514552\n"
     ]
    }
   ],
   "source": [
    "# K-Neighbors Regressor\n",
    "\n",
    "from sklearn.neighbors import KNeighborsRegressor\n",
    "regressor = KNeighborsRegressor()\n",
    "regressor.fit(X_train,y_train)\n",
    "y_pred_knr = regressor.predict(X_test)\n",
    "r2_KNR = r2_score(y_test,y_pred_knr)\n",
    "print(r2_KNR)"
   ]
  },
  {
   "cell_type": "code",
   "execution_count": 63,
   "id": "26a13f17",
   "metadata": {},
   "outputs": [
    {
     "data": {
      "image/png": "[encoded data removed]",
      "text/plain": [
       "<Figure size 640x480 with 1 Axes>"
      ]
     },
     "metadata": {},
     "output_type": "display_data"
    }
   ],
   "source": [
    "#plot the predicted vs actual values\n",
    "plt.scatter(y_test,y_pred_knr)\n",
    "plt.xlabel('Actual_values')\n",
    "plt.ylabel('Predicted values')\n",
    "plt.title('predicted vs acutal values')\n",
    "plt.show()"
   ]
  },
  {
   "cell_type": "code",
   "execution_count": 64,
   "id": "3d6d299a",
   "metadata": {},
   "outputs": [
    {
     "data": {
      "text/plain": [
       "0.8454490583036938"
      ]
     },
     "execution_count": 64,
     "metadata": {},
     "output_type": "execute_result"
    }
   ],
   "source": [
    "# decision tree \n",
    "from sklearn.tree import DecisionTreeRegressor\n",
    "regressor=DecisionTreeRegressor(random_state=0)\n",
    "\n",
    "regressor.fit(X_train,y_train)\n",
    "\n",
    "y_pred_dt=regressor.predict(X_test)\n",
    "\n",
    "\n",
    "r2_score(y_test,y_pred_dt)\n"
   ]
  },
  {
   "cell_type": "code",
   "execution_count": 65,
   "id": "90013718",
   "metadata": {},
   "outputs": [
    {
     "name": "stdout",
     "output_type": "stream",
     "text": [
      "mean_squared_error 95540.22318896285\n",
      "mean_absolute_error 62087.86721611721\n"
     ]
    }
   ],
   "source": [
    "#calculate the mse\n",
    "mse=mean_squared_error(y_test,y_pred_dt,squared=False)\n",
    "print('mean_squared_error',mse)\n",
    "\n",
    "#mae\n",
    "mae=mean_absolute_error(y_test,y_pred_dt)\n",
    "print('mean_absolute_error',mae)\n"
   ]
  },
  {
   "cell_type": "code",
   "execution_count": 66,
   "id": "3fd23adc",
   "metadata": {},
   "outputs": [
    {
     "name": "stdout",
     "output_type": "stream",
     "text": [
      "9127934246.996834\n"
     ]
    }
   ],
   "source": [
    "print(mean_squared_error(y_true=y_test, y_pred=y_pred_dt))"
   ]
  },
  {
   "cell_type": "code",
   "execution_count": 67,
   "id": "f0623b77",
   "metadata": {},
   "outputs": [],
   "source": [
    "# Combine all Evaluation matrix in one df\n",
    "models = [ LinearRegression, KNeighborsRegressor, DecisionTreeRegressor, RandomForestRegressor]\n",
    "mse = []\n",
    "rmse = []\n",
    "r_square_score = []\n",
    "\n",
    "for model in models:\n",
    "    regressor = model().fit(X_train, y_train)\n",
    "    pred = regressor.predict(X_test)\n",
    "    mse.append(mean_squared_error(y_true= y_test, y_pred= pred))\n",
    "    rmse.append(np.sqrt(mean_squared_error(y_true= y_test, y_pred= pred)))\n",
    "    r_square_score.append(r2_score(y_true= y_test, y_pred= pred))\n"
   ]
  },
  {
   "cell_type": "code",
   "execution_count": 68,
   "id": "11be12df",
   "metadata": {},
   "outputs": [
    {
     "data": {
      "text/html": [
       "<div>\n",
       "<style scoped>\n",
       "    .dataframe tbody tr th:only-of-type {\n",
       "        vertical-align: middle;\n",
       "    }\n",
       "\n",
       "    .dataframe tbody tr th {\n",
       "        vertical-align: top;\n",
       "    }\n",
       "\n",
       "    .dataframe thead th {\n",
       "        text-align: right;\n",
       "    }\n",
       "</style>\n",
       "<table border=\"1\" class=\"dataframe\">\n",
       "  <thead>\n",
       "    <tr style=\"text-align: right;\">\n",
       "      <th></th>\n",
       "      <th>Mean Squared Error</th>\n",
       "      <th>Root Mean Squared Error</th>\n",
       "      <th>R-Square Score / Accuracy</th>\n",
       "    </tr>\n",
       "    <tr>\n",
       "      <th>Models</th>\n",
       "      <th></th>\n",
       "      <th></th>\n",
       "      <th></th>\n",
       "    </tr>\n",
       "  </thead>\n",
       "  <tbody>\n",
       "    <tr>\n",
       "      <th>Linear Regression</th>\n",
       "      <td>1.696135e+10</td>\n",
       "      <td>130235.728614</td>\n",
       "      <td>0.712817</td>\n",
       "    </tr>\n",
       "    <tr>\n",
       "      <th>KNeighbors Regressor</th>\n",
       "      <td>9.895457e+09</td>\n",
       "      <td>99475.909595</td>\n",
       "      <td>0.832454</td>\n",
       "    </tr>\n",
       "    <tr>\n",
       "      <th>Decision Tree Regressor</th>\n",
       "      <td>8.846004e+09</td>\n",
       "      <td>94053.196418</td>\n",
       "      <td>0.850223</td>\n",
       "    </tr>\n",
       "    <tr>\n",
       "      <th>Random Forest Regressor</th>\n",
       "      <td>5.583430e+09</td>\n",
       "      <td>74722.349432</td>\n",
       "      <td>0.905463</td>\n",
       "    </tr>\n",
       "  </tbody>\n",
       "</table>\n",
       "</div>"
      ],
      "text/plain": [
       "                         Mean Squared Error  Root Mean Squared Error  \\\n",
       "Models                                                                 \n",
       "Linear Regression              1.696135e+10            130235.728614   \n",
       "KNeighbors Regressor           9.895457e+09             99475.909595   \n",
       "Decision Tree Regressor        8.846004e+09             94053.196418   \n",
       "Random Forest Regressor        5.583430e+09             74722.349432   \n",
       "\n",
       "                         R-Square Score / Accuracy  \n",
       "Models                                              \n",
       "Linear Regression                         0.712817  \n",
       "KNeighbors Regressor                      0.832454  \n",
       "Decision Tree Regressor                   0.850223  \n",
       "Random Forest Regressor                   0.905463  "
      ]
     },
     "execution_count": 68,
     "metadata": {},
     "output_type": "execute_result"
    }
   ],
   "source": [
    "# create a new DataFrame from the above three lists\n",
    "MLModels_df = pd.DataFrame({\"Models\": [ 'Linear Regression', 'KNeighbors Regressor', 'Decision Tree Regressor', 'Random Forest Regressor'],\n",
    "                           \"Mean Squared Error\": mse,\n",
    "                           \"Root Mean Squared Error\": rmse,\n",
    "                           \"R-Square Score / Accuracy\": r_square_score})\n",
    "\n",
    "MLModels_df.set_index('Models', inplace=True)\n",
    "MLModels_df.head()"
   ]
  },
  {
   "cell_type": "code",
   "execution_count": 69,
   "id": "7c3271d4",
   "metadata": {},
   "outputs": [
    {
     "name": "stdout",
     "output_type": "stream",
     "text": [
      "[0.71359704 0.71044163 0.70164264 0.68593769 0.71076051]\n",
      "Mean Score: 70.44759019885502 %\n"
     ]
    }
   ],
   "source": [
    "# Cross Validation for Linear Regression\n",
    "\n",
    "from sklearn.model_selection import cross_val_score\n",
    "\n",
    "Liner_Regression_Score = cross_val_score(LinearRegression(), X_train, y_train, cv=5, scoring='r2')\n",
    "print(Liner_Regression_Score)\n",
    "print(\"Mean Score:\", Liner_Regression_Score.mean()*100,'%')"
   ]
  },
  {
   "cell_type": "code",
   "execution_count": 108,
   "id": "1657f66f",
   "metadata": {},
   "outputs": [
    {
     "name": "stdout",
     "output_type": "stream",
     "text": [
      "[0.8908856  0.89010588 0.8879788  0.90002015 0.89384245]\n",
      "Mean Score: 89.2566576422497 %\n"
     ]
    }
   ],
   "source": [
    "# Cross Validation for KNN\n",
    "\n",
    "knn_score = cross_val_score(regressor, X_train, y_train, cv=5, scoring='r2')\n",
    "print(knn_score)\n",
    "print(\"Mean Score:\", knn_score.mean()*100,'%')"
   ]
  },
  {
   "cell_type": "code",
   "execution_count": 71,
   "id": "31c4eb57",
   "metadata": {},
   "outputs": [
    {
     "name": "stdout",
     "output_type": "stream",
     "text": [
      "[0.82286546 0.81107897 0.81677468 0.82778863 0.81318206]\n",
      "Mean Score: 81.8337960744893 %\n"
     ]
    }
   ],
   "source": [
    "# Cross Validation for Decision Tree\n",
    "\n",
    "dt_score = cross_val_score(DecisionTreeRegressor(), X_train, y_train, cv=5, scoring='r2')\n",
    "print(dt_score)\n",
    "print(\"Mean Score:\", dt_score.mean()*100,'%')"
   ]
  },
  {
   "cell_type": "code",
   "execution_count": 72,
   "id": "61e195fe",
   "metadata": {},
   "outputs": [
    {
     "name": "stdout",
     "output_type": "stream",
     "text": [
      "[0.89269705 0.88764636 0.88784922 0.89961423 0.8931202 ]\n",
      "Mean Score: 89.21854100092494 %\n"
     ]
    }
   ],
   "source": [
    "# Cross Validation for Random Forest Algo\n",
    "\n",
    "rm_score = cross_val_score(RandomForestRegressor(), X_train, y_train, cv=5, scoring='r2')\n",
    "print(rm_score)\n",
    "print(\"Mean Score:\", rm_score.mean()*100,'%')"
   ]
  },
  {
   "cell_type": "code",
   "execution_count": 73,
   "id": "5fcc446d",
   "metadata": {},
   "outputs": [
    {
     "data": {
      "text/plain": [
       "Text(0.5, 1.0, 'True value Vs Predicted values of Selling Price')"
      ]
     },
     "execution_count": 73,
     "metadata": {},
     "output_type": "execute_result"
    },
    {
     "data": {
      "image/png": "[encoded data removed]",
      "text/plain": [
       "<Figure size 700x500 with 1 Axes>"
      ]
     },
     "metadata": {},
     "output_type": "display_data"
    }
   ],
   "source": [
    "# Predicting Test Data by visualizing of RF\n",
    "\n",
    "plt.figure(figsize=(7,5))\n",
    "plt.scatter(x= y_test, y= y_pred_rf)\n",
    "plt.xlabel('Y Test (True values)')\n",
    "plt.ylabel('Predicted Values')\n",
    "plt.title('True value Vs Predicted values of Selling Price', fontsize=14)"
   ]
  },
  {
   "cell_type": "code",
   "execution_count": 74,
   "id": "365e0bb8",
   "metadata": {},
   "outputs": [
    {
     "data": {
      "text/plain": [
       "<AxesSubplot:xlabel='selling_price', ylabel='Density'>"
      ]
     },
     "execution_count": 74,
     "metadata": {},
     "output_type": "execute_result"
    },
    {
     "data": {
      "image/png": "[encoded data removed]",
      "text/plain": [
       "<Figure size 640x480 with 1 Axes>"
      ]
     },
     "metadata": {},
     "output_type": "display_data"
    }
   ],
   "source": [
    "# explore the residuals of RF\n",
    "\n",
    "sns.distplot(y_test - y_pred_rf)"
   ]
  },
  {
   "cell_type": "code",
   "execution_count": 75,
   "id": "6fffca14",
   "metadata": {},
   "outputs": [
    {
     "name": "stdout",
     "output_type": "stream",
     "text": [
      "Mean Absolute Error:  51685.309263043506\n",
      "Mean Squareed Error:  5596803726.029278\n",
      "Root Mean Square Error:  74811.78868353087\n"
     ]
    }
   ],
   "source": [
    "# Model Evaluation of RF\n",
    "\n",
    "print('Mean Absolute Error: ', mean_absolute_error(y_test, y_pred_rf))\n",
    "print('Mean Squareed Error: ', mean_squared_error(y_test, y_pred_rf))\n",
    "print('Root Mean Square Error: ', np.sqrt(mean_squared_error(y_test, y_pred_rf)))"
   ]
  },
  {
   "cell_type": "code",
   "execution_count": 76,
   "id": "a32000c2",
   "metadata": {},
   "outputs": [
    {
     "name": "stdout",
     "output_type": "stream",
     "text": [
      "Accuracy:  0.9052369065178345\n"
     ]
    }
   ],
   "source": [
    "print('Accuracy: ', r2_score(y_test, y_pred_rf))\n"
   ]
  },
  {
   "cell_type": "code",
   "execution_count": 77,
   "id": "2745625b",
   "metadata": {},
   "outputs": [
    {
     "data": {
      "text/html": [
       "<div>\n",
       "<style scoped>\n",
       "    .dataframe tbody tr th:only-of-type {\n",
       "        vertical-align: middle;\n",
       "    }\n",
       "\n",
       "    .dataframe tbody tr th {\n",
       "        vertical-align: top;\n",
       "    }\n",
       "\n",
       "    .dataframe thead th {\n",
       "        text-align: right;\n",
       "    }\n",
       "</style>\n",
       "<table border=\"1\" class=\"dataframe\">\n",
       "  <thead>\n",
       "    <tr style=\"text-align: right;\">\n",
       "      <th></th>\n",
       "      <th>Predicted Value</th>\n",
       "    </tr>\n",
       "    <tr>\n",
       "      <th>Actual Values</th>\n",
       "      <th></th>\n",
       "    </tr>\n",
       "  </thead>\n",
       "  <tbody>\n",
       "    <tr>\n",
       "      <th>850000</th>\n",
       "      <td>778400.000000</td>\n",
       "    </tr>\n",
       "    <tr>\n",
       "      <th>650000</th>\n",
       "      <td>514150.000000</td>\n",
       "    </tr>\n",
       "    <tr>\n",
       "      <th>330000</th>\n",
       "      <td>367359.990000</td>\n",
       "    </tr>\n",
       "    <tr>\n",
       "      <th>795000</th>\n",
       "      <td>726449.990000</td>\n",
       "    </tr>\n",
       "    <tr>\n",
       "      <th>600000</th>\n",
       "      <td>618250.000000</td>\n",
       "    </tr>\n",
       "    <tr>\n",
       "      <th>329000</th>\n",
       "      <td>340170.000000</td>\n",
       "    </tr>\n",
       "    <tr>\n",
       "      <th>540000</th>\n",
       "      <td>653373.323333</td>\n",
       "    </tr>\n",
       "    <tr>\n",
       "      <th>250000</th>\n",
       "      <td>190549.940000</td>\n",
       "    </tr>\n",
       "    <tr>\n",
       "      <th>400000</th>\n",
       "      <td>383209.990000</td>\n",
       "    </tr>\n",
       "    <tr>\n",
       "      <th>300000</th>\n",
       "      <td>311879.920000</td>\n",
       "    </tr>\n",
       "    <tr>\n",
       "      <th>475000</th>\n",
       "      <td>477020.000000</td>\n",
       "    </tr>\n",
       "    <tr>\n",
       "      <th>570000</th>\n",
       "      <td>551838.656667</td>\n",
       "    </tr>\n",
       "    <tr>\n",
       "      <th>448000</th>\n",
       "      <td>459983.990000</td>\n",
       "    </tr>\n",
       "    <tr>\n",
       "      <th>560000</th>\n",
       "      <td>897987.380000</td>\n",
       "    </tr>\n",
       "    <tr>\n",
       "      <th>455000</th>\n",
       "      <td>416498.571429</td>\n",
       "    </tr>\n",
       "    <tr>\n",
       "      <th>160000</th>\n",
       "      <td>175591.500000</td>\n",
       "    </tr>\n",
       "    <tr>\n",
       "      <th>140000</th>\n",
       "      <td>171929.890000</td>\n",
       "    </tr>\n",
       "    <tr>\n",
       "      <th>170000</th>\n",
       "      <td>154949.995000</td>\n",
       "    </tr>\n",
       "    <tr>\n",
       "      <th>340000</th>\n",
       "      <td>365200.000000</td>\n",
       "    </tr>\n",
       "    <tr>\n",
       "      <th>370000</th>\n",
       "      <td>455875.713333</td>\n",
       "    </tr>\n",
       "  </tbody>\n",
       "</table>\n",
       "</div>"
      ],
      "text/plain": [
       "               Predicted Value\n",
       "Actual Values                 \n",
       "850000           778400.000000\n",
       "650000           514150.000000\n",
       "330000           367359.990000\n",
       "795000           726449.990000\n",
       "600000           618250.000000\n",
       "329000           340170.000000\n",
       "540000           653373.323333\n",
       "250000           190549.940000\n",
       "400000           383209.990000\n",
       "300000           311879.920000\n",
       "475000           477020.000000\n",
       "570000           551838.656667\n",
       "448000           459983.990000\n",
       "560000           897987.380000\n",
       "455000           416498.571429\n",
       "160000           175591.500000\n",
       "140000           171929.890000\n",
       "170000           154949.995000\n",
       "340000           365200.000000\n",
       "370000           455875.713333"
      ]
     },
     "execution_count": 77,
     "metadata": {},
     "output_type": "execute_result"
    }
   ],
   "source": [
    "test_df = pd.DataFrame({\"Actual Values\": y_test, \"Predicted Value\": y_pred_rf})\n",
    "\n",
    "test_df.set_index('Actual Values', inplace=True)\n",
    "test_df.head(20)"
   ]
  },
  {
   "cell_type": "code",
   "execution_count": 78,
   "id": "734fae80",
   "metadata": {},
   "outputs": [],
   "source": [
    "import pickle\n",
    "f_name = 'savemodel.sav'\n",
    "pickle.dump(rf,open(f_name, 'wb'))"
   ]
  },
  {
   "cell_type": "code",
   "execution_count": 79,
   "id": "b4fb268d",
   "metadata": {},
   "outputs": [],
   "source": [
    "load_model = pickle.load(open(f_name,'rb'))"
   ]
  },
  {
   "cell_type": "code",
   "execution_count": 80,
   "id": "0f08492e",
   "metadata": {},
   "outputs": [
    {
     "data": {
      "text/plain": [
       "array([-0.83628408, -0.94328284,  0.22456114, -3.52312963,  1.144049  ,\n",
       "        0.50335131,  0.28838851,  1.01000506, -0.39626658, -0.848704  ])"
      ]
     },
     "execution_count": 80,
     "metadata": {},
     "output_type": "execute_result"
    }
   ],
   "source": [
    "X_test[0]"
   ]
  },
  {
   "cell_type": "code",
   "execution_count": 81,
   "id": "22c3ccdc",
   "metadata": {},
   "outputs": [
    {
     "data": {
      "text/plain": [
       "array([778400.])"
      ]
     },
     "execution_count": 81,
     "metadata": {},
     "output_type": "execute_result"
    }
   ],
   "source": [
    "rf.predict([[-0.83628408, -0.94328284,  0.22456114, -3.52312963,  1.144049  ,\n",
    "        0.50335131,  0.28838851,  1.01000506, -0.39626658, -0.848704  ]])"
   ]
  },
  {
   "cell_type": "code",
   "execution_count": 82,
   "id": "5156ea9d",
   "metadata": {},
   "outputs": [
    {
     "data": {
      "text/plain": [
       "array([ 1.51432765, -0.94328284,  0.22456114,  0.28383855, -0.72554932,\n",
       "       -0.01227049,  0.20323161,  1.00390489, -0.39626658, -0.1074728 ])"
      ]
     },
     "execution_count": 82,
     "metadata": {},
     "output_type": "execute_result"
    }
   ],
   "source": [
    "X_test[1]"
   ]
  },
  {
   "cell_type": "code",
   "execution_count": 83,
   "id": "0e1385d4",
   "metadata": {},
   "outputs": [
    {
     "data": {
      "text/plain": [
       "array([514150.])"
      ]
     },
     "execution_count": 83,
     "metadata": {},
     "output_type": "execute_result"
    }
   ],
   "source": [
    "rf.predict([[ 1.51432765, -0.94328284,  0.22456114,  0.28383855, -0.72554932,\n",
    "       -0.01227049,  0.20323161,  1.00390489, -0.39626658, -0.1074728 ]])"
   ]
  },
  {
   "cell_type": "code",
   "execution_count": null,
   "id": "6f7c8945",
   "metadata": {},
   "outputs": [],
   "source": []
  }
 ],
 "metadata": {
  "kernelspec": {
   "display_name": "Python 3 (ipykernel)",
   "language": "python",
   "name": "python3"
  },
  "language_info": {
   "codemirror_mode": {
    "name": "ipython",
    "version": 3
   },
   "file_extension": ".py",
   "mimetype": "text/x-python",
   "name": "python",
   "nbconvert_exporter": "python",
   "pygments_lexer": "ipython3",
   "version": "3.9.13"
  }
 },
 "nbformat": 4,
 "nbformat_minor": 5
}
